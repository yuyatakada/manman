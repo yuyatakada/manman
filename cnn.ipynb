{
 "cells": [
  {
   "cell_type": "code",
   "execution_count": 1,
   "metadata": {},
   "outputs": [],
   "source": [
    "import numpy as np\n",
    "import math\n",
    "import os.path\n",
    "import urllib.request\n",
    "import gzip\n",
    "import matplotlib.pyplot as plt\n",
    "np.random.seed(0)"
   ]
  },
  {
   "cell_type": "code",
   "execution_count": 2,
   "metadata": {},
   "outputs": [],
   "source": [
    "# MNISTデータセットをダウンロード\n",
    "def download_mnist_dataset(url):\n",
    "    filename = './' + os.path.basename(url)\n",
    "    if os.path.isfile(filename):\n",
    "        return\n",
    "\n",
    "    buf = urllib.request.urlopen(url).read()\n",
    "    with open(filename, mode='wb') as f:\n",
    "        f.write(buf)\n",
    "\n",
    "BASE_URL = 'http://yann.lecun.com/exdb/mnist/'\n",
    "filenames = [\n",
    "    'train-images-idx3-ubyte.gz',\n",
    "    'train-labels-idx1-ubyte.gz',\n",
    "    't10k-images-idx3-ubyte.gz',\n",
    "    't10k-labels-idx1-ubyte.gz'\n",
    "]\n",
    "#[download_mnist_dataset(BASE_URL + filename) for filename in filenames]"
   ]
  },
  {
   "cell_type": "code",
   "execution_count": 3,
   "metadata": {},
   "outputs": [],
   "source": [
    "def load_file(filename, offset):\n",
    "    with gzip.open('./' + filename + '.gz', 'rb') as f:\n",
    "        return np.frombuffer(f.read(), np.uint8, offset=offset)"
   ]
  },
  {
   "cell_type": "code",
   "execution_count": 4,
   "metadata": {},
   "outputs": [],
   "source": [
    "TX = load_file('train-images-idx3-ubyte', offset=16)\n",
    "TY = load_file('train-labels-idx1-ubyte', offset=8)"
   ]
  },
  {
   "cell_type": "code",
   "execution_count": 5,
   "metadata": {},
   "outputs": [
    {
     "data": {
      "text/plain": [
       "array([0, 0, 0, ..., 0, 0, 0], dtype=uint8)"
      ]
     },
     "execution_count": 5,
     "metadata": {},
     "output_type": "execute_result"
    }
   ],
   "source": [
    "TX"
   ]
  },
  {
   "cell_type": "code",
   "execution_count": 6,
   "metadata": {},
   "outputs": [
    {
     "data": {
      "text/plain": [
       "array([5, 0, 4, ..., 5, 6, 8], dtype=uint8)"
      ]
     },
     "execution_count": 6,
     "metadata": {},
     "output_type": "execute_result"
    }
   ],
   "source": [
    "TY"
   ]
  },
  {
   "cell_type": "code",
   "execution_count": 7,
   "metadata": {},
   "outputs": [],
   "source": [
    "def convertX(X):\n",
    "    return X.reshape(-1, 1, 28, 28).astype(np.float32) / 255.0"
   ]
  },
  {
   "cell_type": "code",
   "execution_count": 8,
   "metadata": {},
   "outputs": [],
   "source": [
    "TX = convertX(TX)"
   ]
  },
  {
   "cell_type": "code",
   "execution_count": 9,
   "metadata": {},
   "outputs": [],
   "source": [
    "def convertY(Y):\n",
    "    return np.eye(10)[Y]"
   ]
  },
  {
   "cell_type": "code",
   "execution_count": 10,
   "metadata": {},
   "outputs": [],
   "source": [
    "TY = convertY(TY)"
   ]
  },
  {
   "cell_type": "code",
   "execution_count": 11,
   "metadata": {},
   "outputs": [],
   "source": [
    "def show_images(X):\n",
    "    COLUMN = 5\n",
    "    ROW = (len(X) - 1) // COLUMN + 1\n",
    "    fig = plt.figure()\n",
    "    for i in range(len(X)):\n",
    "        sub = fig.add_subplot(ROW, COLUMN, i + 1)\n",
    "        sub.axis('off')\n",
    "        sub.set_title('X[{}]'.format(i))\n",
    "        plt.imshow(X[i][0], cmap='gray')\n",
    "    plt.show()"
   ]
  },
  {
   "cell_type": "code",
   "execution_count": 12,
   "metadata": {},
   "outputs": [
    {
     "data": {
      "image/png": "[encoded data removed]",
      "text/plain": [
       "<Figure size 432x288 with 10 Axes>"
      ]
     },
     "metadata": {
      "needs_background": "light"
     },
     "output_type": "display_data"
    }
   ],
   "source": [
    "show_images(TX[:10])"
   ]
  },
  {
   "cell_type": "code",
   "execution_count": 13,
   "metadata": {},
   "outputs": [],
   "source": [
    "#4次元\n",
    "W1 = np.random.randn( 32,  1, 5, 5)   * math.sqrt(2 / ( 1 * 5 * 5))\n",
    "W2 = np.random.randn( 64, 32, 5, 5)   * math.sqrt(2 / (32 * 5 * 5))\n",
    "\n",
    "#2次元\n",
    "W3 = np.random.randn(200, 64 * 7 * 7) * math.sqrt(2 / (64 * 7 * 7))\n",
    "W4 = np.random.randn( 10, 200)        * math.sqrt(2 / 200)\n",
    "b1 = np.zeros(32)\n",
    "b2 = np.zeros(64)\n",
    "b3 = np.zeros(200)\n",
    "b4 = np.zeros(10)"
   ]
  },
  {
   "cell_type": "code",
   "execution_count": 14,
   "metadata": {},
   "outputs": [],
   "source": [
    "def output_size(input_size, filter_size, stride_size=1, padding_size=0):\n",
    "    return (input_size - filter_size + 2 * padding_size) // stride_size + 1\n",
    "\n",
    "# im形式からcol形式へ変換\n",
    "# -----------------------\n",
    "#\n",
    "# im: (画像数 x チャンネル x 高さ x 幅) の形をした変換前画像\n",
    "# fh: フィルタの高さ\n",
    "# fw: フィルタの幅\n",
    "# s: ストライド\n",
    "# p: パディング\n",
    "#\n",
    "# 戻り値: (特徴マップの縦横サイズ x フィルタのサイズ) の形をした行列\n",
    "def im2col(im, fh, fw, s=1, p=0):\n",
    "    # 畳み込み後の特徴マップのサイズの計算\n",
    "    N, IC, IH, IW = im.shape\n",
    "    OH, OW = output_size(IH, fh, s, p), output_size(IW, fw, s, p)\n",
    "\n",
    "    # ゼロパディング\n",
    "    if p > 0:\n",
    "        im = np.pad(im, [(0,0), (0,0), (p,p), (p,p)], mode='constant')\n",
    "\n",
    "    # im形式からcol形式へコピー\n",
    "    col = np.zeros([N, fh * fw, IC, OH, OW])\n",
    "    for h in range(fh):\n",
    "        for w in range(fw):\n",
    "            col[:, h*fw+w] = im[:, :, h:h+(OH*s):s, w:w+(OW*s):s]\n",
    "\n",
    "    return col.transpose(0, 3, 4, 2, 1).reshape(N * OH * OW, IC * fh * fw)"
   ]
  },
  {
   "cell_type": "code",
   "execution_count": 15,
   "metadata": {},
   "outputs": [],
   "source": [
    "def convolve(X, W, b, s=1, p=0):\n",
    "    # 畳み込み後の特徴マップのサイズの計算\n",
    "    N, IC, IH, IW = X.shape\n",
    "    K, KC, FH, FW = W.shape\n",
    "    OH, OW = output_size(IH, FH, s, p), output_size(IW, FW, s, p)\n",
    "\n",
    "    # 行列積で計算できるようにXとWを変形\n",
    "    X = im2col(X, FH, FW, s, p)\n",
    "    W = W.reshape(K, KC * FH * FW).T\n",
    "\n",
    "    # 畳み込みの計算\n",
    "    Z = np.dot(X, W) + b\n",
    "\n",
    "    # 画像数 x チャンネル x 高さ x 幅の並びに戻す\n",
    "    return Z.reshape(N, OH, OW, K).transpose(0, 3, 1, 2)"
   ]
  },
  {
   "cell_type": "code",
   "execution_count": 16,
   "metadata": {},
   "outputs": [],
   "source": [
    "def relu(X):\n",
    "    return np.maximum(0, X)"
   ]
  },
  {
   "cell_type": "code",
   "execution_count": 17,
   "metadata": {},
   "outputs": [],
   "source": [
    "def max_pooling(X, fh, fw, s):\n",
    "    # 畳み込み後の特徴マップのサイズの計算\n",
    "    N, IC, IH, IW = X.shape\n",
    "    OH, OW = output_size(IH, fh, s), output_size(IW, fw, s)\n",
    "\n",
    "    # 最大値を選びやすいように形を変更\n",
    "    X = im2col(X, fh, fw, s).reshape(N * OH * OW * IC, fh * fw)\n",
    "\n",
    "    # 最大値とそのインデックスを計算\n",
    "    P  = X.max(axis=1)\n",
    "    PI = X.argmax(axis=1)\n",
    "\n",
    "    return P.reshape(N, OH, OW, IC).transpose(0, 3, 1, 2), PI"
   ]
  },
  {
   "cell_type": "code",
   "execution_count": 18,
   "metadata": {},
   "outputs": [],
   "source": [
    "def softmax(X):\n",
    "    # 最大値を各要素から引いてexpの計算によるオーバーフローを防ぐ\n",
    "    N = X.shape[0]\n",
    "    X = X - X.max(axis=1).reshape(N, -1)\n",
    "\n",
    "    # Softmax関数の計算\n",
    "    return np.exp(X) / np.exp(X).sum(axis=1).reshape(N, -1)"
   ]
  },
  {
   "cell_type": "code",
   "execution_count": 19,
   "metadata": {},
   "outputs": [],
   "source": [
    "def forward(X0):\n",
    "    # 畳み込み層1\n",
    "    Z1 = convolve(X0, W1, b1, s=1, p=2)\n",
    "    A1 = relu(Z1)\n",
    "    X1, PI1 = max_pooling(A1, fh=2, fw=2, s=2)\n",
    "\n",
    "    # 畳み込み層2\n",
    "    Z2 = convolve(X1, W2, b2, s=1, p=2)\n",
    "    A2 = relu(Z2)\n",
    "    X2, PI2 = max_pooling(A2, fh=2, fw=2, s=2)\n",
    "\n",
    "    # 1列に展開\n",
    "    N = X2.shape[0]\n",
    "    X2 = X2.reshape(N, -1)\n",
    "\n",
    "    # 全結合層\n",
    "    Z3 = np.dot(X2, W3.T) + b3\n",
    "    X3 = relu(Z3)\n",
    "\n",
    "    # 出力層\n",
    "    Z4 = np.dot(X3, W4.T) + b4\n",
    "    X4 = softmax(Z4)\n",
    "\n",
    "    return Z1, X1, PI1, Z2, X2, PI2, Z3, X3, X4"
   ]
  },
  {
   "cell_type": "code",
   "execution_count": 20,
   "metadata": {},
   "outputs": [],
   "source": [
    "def drelu(x):\n",
    "    return np.where(x > 0, 1, 0)"
   ]
  },
  {
   "cell_type": "code",
   "execution_count": 21,
   "metadata": {},
   "outputs": [],
   "source": [
    "def delta_output(T, Y):\n",
    "    return -T + Y"
   ]
  },
  {
   "cell_type": "code",
   "execution_count": 22,
   "metadata": {},
   "outputs": [],
   "source": [
    "def delta_hidden(Z, D, W):\n",
    "    return drelu(Z) * np.dot(D, W)"
   ]
  },
  {
   "cell_type": "code",
   "execution_count": 23,
   "metadata": {},
   "outputs": [],
   "source": [
    "def col2im(col, im_shape, fh, fw, s=1, p=0):\n",
    "    # 畳み込み後の特徴マップの縦横サイズ\n",
    "    N, IC, IH, IW = im_shape\n",
    "    OH, OW = output_size(IH, fh, s, p), output_size(IW, fw, s, p)\n",
    "\n",
    "    # ストライドとパディングを考慮してim形式用にメモリを確保\n",
    "    im = np.zeros([N, IC, IH + 2 * p + s - 1, IW + 2 * p + s - 1])\n",
    "\n",
    "    # col形式からim形式へ戻す。重複した要素は足す\n",
    "    col = col.reshape(N, OH, OW, IC, fh * fw).transpose(0, 4, 3, 1, 2)\n",
    "    for h in range(fh):\n",
    "        for w in range(fw):\n",
    "            im[:, :, h:h+(OH*s):s, w:w+(OW*s):s] += col[:, h*fw+w]\n",
    "\n",
    "    # パディング部分は不要なので切り捨てて返す\n",
    "    return im[:, :, p:IH+p, p:IW+p]"
   ]
  },
  {
   "cell_type": "code",
   "execution_count": 24,
   "metadata": {},
   "outputs": [],
   "source": [
    "def delta_conv(P, D, W, s, p):\n",
    "    N, DC, DH, DW = D.shape\n",
    "    K, KC, FH, FW = W.shape\n",
    "\n",
    "    # 行列を適切に変形してcol形式を作る\n",
    "    D = D.transpose(0, 2, 3, 1).reshape(N * DH * DW, DC)\n",
    "    W = W.reshape(K, KC * FH * FW)\n",
    "    col_D = np.dot(D, W)\n",
    "\n",
    "    # col形式からim形式に戻してデルタを計算\n",
    "    return drelu(P) * col2im(col_D, P.shape, FH, FW, s, p)"
   ]
  },
  {
   "cell_type": "code",
   "execution_count": 25,
   "metadata": {},
   "outputs": [],
   "source": [
    "def backward_max_pooling(im_shape, PI, D, fh, fw, s):\n",
    "    N, C, H, W = im_shape\n",
    "    col_D = np.zeros(N * C * H * W).reshape(-1, fh * fw)\n",
    "    col_D[np.arange(PI.size), PI] = D.flatten()\n",
    "    return col2im(col_D, im_shape, fh, fw, s)"
   ]
  },
  {
   "cell_type": "code",
   "execution_count": 26,
   "metadata": {},
   "outputs": [],
   "source": [
    "def backward(Y, X4, Z3, X2, PI2, Z2, X1, PI1, Z1):\n",
    "    D4 = delta_output(Y, X4)\n",
    "    D3 = delta_hidden(Z3, D4, W4)\n",
    "\n",
    "    D2 = delta_hidden(X2, D3, W3)\n",
    "    D2 = backward_max_pooling(Z2.shape, PI2, D2, fh=2, fw=2, s=2)\n",
    "\n",
    "    D1 = delta_conv(X1, D2, W2, s=1, p=2)\n",
    "    D1 = backward_max_pooling(Z1.shape, PI1, D1, fh=2, fw=2, s=2)\n",
    "\n",
    "    return D4, D3, D2, D1"
   ]
  },
  {
   "cell_type": "code",
   "execution_count": 27,
   "metadata": {},
   "outputs": [],
   "source": [
    "def dweight(D, X):\n",
    "    return np.dot(D.T, X)"
   ]
  },
  {
   "cell_type": "code",
   "execution_count": 28,
   "metadata": {},
   "outputs": [],
   "source": [
    "def dbias(D):\n",
    "    return D.sum(axis=0)"
   ]
  },
  {
   "cell_type": "code",
   "execution_count": 29,
   "metadata": {},
   "outputs": [],
   "source": [
    "def dfilter_weight(X, D, weight_shape):\n",
    "    K, KC, FH, FW = weight_shape\n",
    "    N, DC, DH, DW = D.shape\n",
    "\n",
    "    D = D.transpose(1, 0, 2, 3).reshape(DC, N * DH * DW)\n",
    "    col_X = im2col(X, FH, FW, 1, 2)\n",
    "    return np.dot(D, col_X).reshape(K, KC, FH, FW)\n",
    "\n",
    "# 目的関数のフィルタバイアスでの微分\n",
    "def dfilter_bias(D):\n",
    "    N, C, H, W = D.shape\n",
    "    return D.transpose(1, 0, 2, 3).reshape(C, N * H * W).sum(axis=1)"
   ]
  },
  {
   "cell_type": "code",
   "execution_count": 30,
   "metadata": {},
   "outputs": [],
   "source": [
    "ETA = 1e-5"
   ]
  },
  {
   "cell_type": "code",
   "execution_count": 31,
   "metadata": {},
   "outputs": [],
   "source": [
    "def update_parameters(D4, X3, D3, X2, D2, X1, D1, X0):\n",
    "    global W4, W3, W2, W1, b4, b3, b2, b1\n",
    "\n",
    "    W4 = W4 - ETA * dweight(D4, X3)\n",
    "    W3 = W3 - ETA * dweight(D3, X2)\n",
    "    W2 = W2 - ETA * dfilter_weight(X1, D2, W2.shape)\n",
    "    W1 = W1 - ETA * dfilter_weight(X0, D1, W1.shape)\n",
    "\n",
    "    b4 = b4 - ETA * dbias(D4)\n",
    "    b3 = b3 - ETA * dbias(D3)\n",
    "    b2 = b2 - ETA * dfilter_bias(D2)\n",
    "    b1 = b1 - ETA * dfilter_bias(D1)"
   ]
  },
  {
   "cell_type": "code",
   "execution_count": 32,
   "metadata": {},
   "outputs": [],
   "source": [
    "def train(X0, Y):\n",
    "    Z1, X1, PI1, Z2, X2, PI2, Z3, X3, X4 = forward(X0)\n",
    "\n",
    "    D4, D3, D2, D1 = backward(Y, X4, Z3, X2, PI2, Z2, X1, PI1, Z1)\n",
    "\n",
    "    update_parameters(D4, X3, D3, X2, D2, X1, D1, X0)"
   ]
  },
  {
   "cell_type": "code",
   "execution_count": 33,
   "metadata": {},
   "outputs": [],
   "source": [
    "EPOCH = 5"
   ]
  },
  {
   "cell_type": "code",
   "execution_count": 34,
   "metadata": {},
   "outputs": [],
   "source": [
    "def predict(X):\n",
    "    return forward(X)[-1]"
   ]
  },
  {
   "cell_type": "code",
   "execution_count": 35,
   "metadata": {},
   "outputs": [],
   "source": [
    "def E(T, X):\n",
    "    return -(T * np.log(predict(X) + 1e-5)).sum()"
   ]
  },
  {
   "cell_type": "code",
   "execution_count": 36,
   "metadata": {},
   "outputs": [],
   "source": [
    "BATCH = 1000"
   ]
  },
  {
   "cell_type": "code",
   "execution_count": 37,
   "metadata": {},
   "outputs": [
    {
     "name": "stdout",
     "output_type": "stream",
     "text": [
      "誤差: 2343.5022 ( 1エポック   0バッチ目)\n"
     ]
    },
    {
     "ename": "KeyboardInterrupt",
     "evalue": "",
     "output_type": "error",
     "traceback": [
      "\u001b[0;31m---------------------------------------------------------------------------\u001b[0m",
      "\u001b[0;31mKeyboardInterrupt\u001b[0m                         Traceback (most recent call last)",
      "\u001b[0;32m<timed exec>\u001b[0m in \u001b[0;36m<module>\u001b[0;34m\u001b[0m\n",
      "\u001b[0;32m<ipython-input-32-84bc1fe660d2>\u001b[0m in \u001b[0;36mtrain\u001b[0;34m(X0, Y)\u001b[0m\n\u001b[1;32m      4\u001b[0m     \u001b[0mD4\u001b[0m\u001b[0;34m,\u001b[0m \u001b[0mD3\u001b[0m\u001b[0;34m,\u001b[0m \u001b[0mD2\u001b[0m\u001b[0;34m,\u001b[0m \u001b[0mD1\u001b[0m \u001b[0;34m=\u001b[0m \u001b[0mbackward\u001b[0m\u001b[0;34m(\u001b[0m\u001b[0mY\u001b[0m\u001b[0;34m,\u001b[0m \u001b[0mX4\u001b[0m\u001b[0;34m,\u001b[0m \u001b[0mZ3\u001b[0m\u001b[0;34m,\u001b[0m \u001b[0mX2\u001b[0m\u001b[0;34m,\u001b[0m \u001b[0mPI2\u001b[0m\u001b[0;34m,\u001b[0m \u001b[0mZ2\u001b[0m\u001b[0;34m,\u001b[0m \u001b[0mX1\u001b[0m\u001b[0;34m,\u001b[0m \u001b[0mPI1\u001b[0m\u001b[0;34m,\u001b[0m \u001b[0mZ1\u001b[0m\u001b[0;34m)\u001b[0m\u001b[0;34m\u001b[0m\u001b[0;34m\u001b[0m\u001b[0m\n\u001b[1;32m      5\u001b[0m \u001b[0;34m\u001b[0m\u001b[0m\n\u001b[0;32m----> 6\u001b[0;31m     \u001b[0mupdate_parameters\u001b[0m\u001b[0;34m(\u001b[0m\u001b[0mD4\u001b[0m\u001b[0;34m,\u001b[0m \u001b[0mX3\u001b[0m\u001b[0;34m,\u001b[0m \u001b[0mD3\u001b[0m\u001b[0;34m,\u001b[0m \u001b[0mX2\u001b[0m\u001b[0;34m,\u001b[0m \u001b[0mD2\u001b[0m\u001b[0;34m,\u001b[0m \u001b[0mX1\u001b[0m\u001b[0;34m,\u001b[0m \u001b[0mD1\u001b[0m\u001b[0;34m,\u001b[0m \u001b[0mX0\u001b[0m\u001b[0;34m)\u001b[0m\u001b[0;34m\u001b[0m\u001b[0;34m\u001b[0m\u001b[0m\n\u001b[0m",
      "\u001b[0;32m<ipython-input-31-1854b5e352aa>\u001b[0m in \u001b[0;36mupdate_parameters\u001b[0;34m(D4, X3, D3, X2, D2, X1, D1, X0)\u001b[0m\n\u001b[1;32m      5\u001b[0m     \u001b[0mW3\u001b[0m \u001b[0;34m=\u001b[0m \u001b[0mW3\u001b[0m \u001b[0;34m-\u001b[0m \u001b[0mETA\u001b[0m \u001b[0;34m*\u001b[0m \u001b[0mdweight\u001b[0m\u001b[0;34m(\u001b[0m\u001b[0mD3\u001b[0m\u001b[0;34m,\u001b[0m \u001b[0mX2\u001b[0m\u001b[0;34m)\u001b[0m\u001b[0;34m\u001b[0m\u001b[0;34m\u001b[0m\u001b[0m\n\u001b[1;32m      6\u001b[0m     \u001b[0mW2\u001b[0m \u001b[0;34m=\u001b[0m \u001b[0mW2\u001b[0m \u001b[0;34m-\u001b[0m \u001b[0mETA\u001b[0m \u001b[0;34m*\u001b[0m \u001b[0mdfilter_weight\u001b[0m\u001b[0;34m(\u001b[0m\u001b[0mX1\u001b[0m\u001b[0;34m,\u001b[0m \u001b[0mD2\u001b[0m\u001b[0;34m,\u001b[0m \u001b[0mW2\u001b[0m\u001b[0;34m.\u001b[0m\u001b[0mshape\u001b[0m\u001b[0;34m)\u001b[0m\u001b[0;34m\u001b[0m\u001b[0;34m\u001b[0m\u001b[0m\n\u001b[0;32m----> 7\u001b[0;31m     \u001b[0mW1\u001b[0m \u001b[0;34m=\u001b[0m \u001b[0mW1\u001b[0m \u001b[0;34m-\u001b[0m \u001b[0mETA\u001b[0m \u001b[0;34m*\u001b[0m \u001b[0mdfilter_weight\u001b[0m\u001b[0;34m(\u001b[0m\u001b[0mX0\u001b[0m\u001b[0;34m,\u001b[0m \u001b[0mD1\u001b[0m\u001b[0;34m,\u001b[0m \u001b[0mW1\u001b[0m\u001b[0;34m.\u001b[0m\u001b[0mshape\u001b[0m\u001b[0;34m)\u001b[0m\u001b[0;34m\u001b[0m\u001b[0;34m\u001b[0m\u001b[0m\n\u001b[0m\u001b[1;32m      8\u001b[0m \u001b[0;34m\u001b[0m\u001b[0m\n\u001b[1;32m      9\u001b[0m     \u001b[0mb4\u001b[0m \u001b[0;34m=\u001b[0m \u001b[0mb4\u001b[0m \u001b[0;34m-\u001b[0m \u001b[0mETA\u001b[0m \u001b[0;34m*\u001b[0m \u001b[0mdbias\u001b[0m\u001b[0;34m(\u001b[0m\u001b[0mD4\u001b[0m\u001b[0;34m)\u001b[0m\u001b[0;34m\u001b[0m\u001b[0;34m\u001b[0m\u001b[0m\n",
      "\u001b[0;32m<ipython-input-29-70fdc2df0fe7>\u001b[0m in \u001b[0;36mdfilter_weight\u001b[0;34m(X, D, weight_shape)\u001b[0m\n\u001b[1;32m      4\u001b[0m \u001b[0;34m\u001b[0m\u001b[0m\n\u001b[1;32m      5\u001b[0m     \u001b[0mD\u001b[0m \u001b[0;34m=\u001b[0m \u001b[0mD\u001b[0m\u001b[0;34m.\u001b[0m\u001b[0mtranspose\u001b[0m\u001b[0;34m(\u001b[0m\u001b[0;36m1\u001b[0m\u001b[0;34m,\u001b[0m \u001b[0;36m0\u001b[0m\u001b[0;34m,\u001b[0m \u001b[0;36m2\u001b[0m\u001b[0;34m,\u001b[0m \u001b[0;36m3\u001b[0m\u001b[0;34m)\u001b[0m\u001b[0;34m.\u001b[0m\u001b[0mreshape\u001b[0m\u001b[0;34m(\u001b[0m\u001b[0mDC\u001b[0m\u001b[0;34m,\u001b[0m \u001b[0mN\u001b[0m \u001b[0;34m*\u001b[0m \u001b[0mDH\u001b[0m \u001b[0;34m*\u001b[0m \u001b[0mDW\u001b[0m\u001b[0;34m)\u001b[0m\u001b[0;34m\u001b[0m\u001b[0;34m\u001b[0m\u001b[0m\n\u001b[0;32m----> 6\u001b[0;31m     \u001b[0mcol_X\u001b[0m \u001b[0;34m=\u001b[0m \u001b[0mim2col\u001b[0m\u001b[0;34m(\u001b[0m\u001b[0mX\u001b[0m\u001b[0;34m,\u001b[0m \u001b[0mFH\u001b[0m\u001b[0;34m,\u001b[0m \u001b[0mFW\u001b[0m\u001b[0;34m,\u001b[0m \u001b[0;36m1\u001b[0m\u001b[0;34m,\u001b[0m \u001b[0;36m2\u001b[0m\u001b[0;34m)\u001b[0m\u001b[0;34m\u001b[0m\u001b[0;34m\u001b[0m\u001b[0m\n\u001b[0m\u001b[1;32m      7\u001b[0m     \u001b[0;32mreturn\u001b[0m \u001b[0mnp\u001b[0m\u001b[0;34m.\u001b[0m\u001b[0mdot\u001b[0m\u001b[0;34m(\u001b[0m\u001b[0mD\u001b[0m\u001b[0;34m,\u001b[0m \u001b[0mcol_X\u001b[0m\u001b[0;34m)\u001b[0m\u001b[0;34m.\u001b[0m\u001b[0mreshape\u001b[0m\u001b[0;34m(\u001b[0m\u001b[0mK\u001b[0m\u001b[0;34m,\u001b[0m \u001b[0mKC\u001b[0m\u001b[0;34m,\u001b[0m \u001b[0mFH\u001b[0m\u001b[0;34m,\u001b[0m \u001b[0mFW\u001b[0m\u001b[0;34m)\u001b[0m\u001b[0;34m\u001b[0m\u001b[0;34m\u001b[0m\u001b[0m\n\u001b[1;32m      8\u001b[0m \u001b[0;34m\u001b[0m\u001b[0m\n",
      "\u001b[0;32m<ipython-input-14-3b78d0e26a69>\u001b[0m in \u001b[0;36mim2col\u001b[0;34m(im, fh, fw, s, p)\u001b[0m\n\u001b[1;32m     25\u001b[0m     \u001b[0;32mfor\u001b[0m \u001b[0mh\u001b[0m \u001b[0;32min\u001b[0m \u001b[0mrange\u001b[0m\u001b[0;34m(\u001b[0m\u001b[0mfh\u001b[0m\u001b[0;34m)\u001b[0m\u001b[0;34m:\u001b[0m\u001b[0;34m\u001b[0m\u001b[0;34m\u001b[0m\u001b[0m\n\u001b[1;32m     26\u001b[0m         \u001b[0;32mfor\u001b[0m \u001b[0mw\u001b[0m \u001b[0;32min\u001b[0m \u001b[0mrange\u001b[0m\u001b[0;34m(\u001b[0m\u001b[0mfw\u001b[0m\u001b[0;34m)\u001b[0m\u001b[0;34m:\u001b[0m\u001b[0;34m\u001b[0m\u001b[0;34m\u001b[0m\u001b[0m\n\u001b[0;32m---> 27\u001b[0;31m             \u001b[0mcol\u001b[0m\u001b[0;34m[\u001b[0m\u001b[0;34m:\u001b[0m\u001b[0;34m,\u001b[0m \u001b[0mh\u001b[0m\u001b[0;34m*\u001b[0m\u001b[0mfw\u001b[0m\u001b[0;34m+\u001b[0m\u001b[0mw\u001b[0m\u001b[0;34m]\u001b[0m \u001b[0;34m=\u001b[0m \u001b[0mim\u001b[0m\u001b[0;34m[\u001b[0m\u001b[0;34m:\u001b[0m\u001b[0;34m,\u001b[0m \u001b[0;34m:\u001b[0m\u001b[0;34m,\u001b[0m \u001b[0mh\u001b[0m\u001b[0;34m:\u001b[0m\u001b[0mh\u001b[0m\u001b[0;34m+\u001b[0m\u001b[0;34m(\u001b[0m\u001b[0mOH\u001b[0m\u001b[0;34m*\u001b[0m\u001b[0ms\u001b[0m\u001b[0;34m)\u001b[0m\u001b[0;34m:\u001b[0m\u001b[0ms\u001b[0m\u001b[0;34m,\u001b[0m \u001b[0mw\u001b[0m\u001b[0;34m:\u001b[0m\u001b[0mw\u001b[0m\u001b[0;34m+\u001b[0m\u001b[0;34m(\u001b[0m\u001b[0mOW\u001b[0m\u001b[0;34m*\u001b[0m\u001b[0ms\u001b[0m\u001b[0;34m)\u001b[0m\u001b[0;34m:\u001b[0m\u001b[0ms\u001b[0m\u001b[0;34m]\u001b[0m\u001b[0;34m\u001b[0m\u001b[0;34m\u001b[0m\u001b[0m\n\u001b[0m\u001b[1;32m     28\u001b[0m \u001b[0;34m\u001b[0m\u001b[0m\n\u001b[1;32m     29\u001b[0m     \u001b[0;32mreturn\u001b[0m \u001b[0mcol\u001b[0m\u001b[0;34m.\u001b[0m\u001b[0mtranspose\u001b[0m\u001b[0;34m(\u001b[0m\u001b[0;36m0\u001b[0m\u001b[0;34m,\u001b[0m \u001b[0;36m3\u001b[0m\u001b[0;34m,\u001b[0m \u001b[0;36m4\u001b[0m\u001b[0;34m,\u001b[0m \u001b[0;36m2\u001b[0m\u001b[0;34m,\u001b[0m \u001b[0;36m1\u001b[0m\u001b[0;34m)\u001b[0m\u001b[0;34m.\u001b[0m\u001b[0mreshape\u001b[0m\u001b[0;34m(\u001b[0m\u001b[0mN\u001b[0m \u001b[0;34m*\u001b[0m \u001b[0mOH\u001b[0m \u001b[0;34m*\u001b[0m \u001b[0mOW\u001b[0m\u001b[0;34m,\u001b[0m \u001b[0mIC\u001b[0m \u001b[0;34m*\u001b[0m \u001b[0mfh\u001b[0m \u001b[0;34m*\u001b[0m \u001b[0mfw\u001b[0m\u001b[0;34m)\u001b[0m\u001b[0;34m\u001b[0m\u001b[0;34m\u001b[0m\u001b[0m\n",
      "\u001b[0;31mKeyboardInterrupt\u001b[0m: "
     ]
    }
   ],
   "source": [
    "%%time\n",
    "error_all = []\n",
    "for epoch in range(1, EPOCH + 1):\n",
    "    # ミニバッチ学習用にランダムなインデックスを取得\n",
    "    p = np.random.permutation(len(TX))\n",
    "\n",
    "    # ミニバッチの数分だけデータを取り出して学習\n",
    "    for i in range(math.ceil(len(TX) / BATCH)):\n",
    "        indice = p[i*BATCH:(i+1)*BATCH]\n",
    "        X0 = TX[indice]\n",
    "        Y  = TY[indice]\n",
    "\n",
    "        train(X0, Y)\n",
    "        \n",
    "        error = E(Y, X0)\n",
    "        error_all.append(error)\n",
    "        # ログを残す\n",
    "        if i % 10 == 0:\n",
    "            log = '誤差: {:8.4f} ({:2d}エポック {:3d}バッチ目)'\n",
    "            print(log.format(error, epoch, i))"
   ]
  },
  {
   "cell_type": "code",
   "execution_count": 38,
   "metadata": {},
   "outputs": [
    {
     "data": {
      "image/png": "[encoded data removed]",
      "text/plain": [
       "<Figure size 432x288 with 10 Axes>"
      ]
     },
     "metadata": {
      "needs_background": "light"
     },
     "output_type": "display_data"
    },
    {
     "data": {
      "text/plain": [
       "array([3, 6, 1, 0, 2, 1, 4, 0, 6, 7])"
      ]
     },
     "execution_count": 38,
     "metadata": {},
     "output_type": "execute_result"
    }
   ],
   "source": [
    "testX = load_file('t10k-images-idx3-ubyte', offset=16)\n",
    "testX = convertX(testX)\n",
    "\n",
    "# テストデータの最初の10件を表示\n",
    "show_images(testX[0:10])\n",
    "\n",
    "# 分類\n",
    "def classify(X):\n",
    "    return np.argmax(predict(X), axis=1)\n",
    "\n",
    "classify(testX[0:10])"
   ]
  },
  {
   "cell_type": "code",
   "execution_count": 39,
   "metadata": {},
   "outputs": [
    {
     "name": "stdout",
     "output_type": "stream",
     "text": [
      "CPU times: user 4.33 s, sys: 1.93 s, total: 6.26 s\n",
      "Wall time: 5.57 s\n"
     ]
    }
   ],
   "source": [
    "%%time\n",
    "pred = classify(testX[:1000])"
   ]
  },
  {
   "cell_type": "code",
   "execution_count": 40,
   "metadata": {},
   "outputs": [],
   "source": [
    "#load_file('train-labels-idx1-ubyte', offset=8)\n",
    "testY = load_file('t10k-labels-idx1-ubyte', offset=8)\n",
    "true = testY[:1000]"
   ]
  },
  {
   "cell_type": "code",
   "execution_count": 41,
   "metadata": {},
   "outputs": [],
   "source": [
    "from sklearn import metrics"
   ]
  },
  {
   "cell_type": "code",
   "execution_count": 42,
   "metadata": {},
   "outputs": [
    {
     "name": "stdout",
     "output_type": "stream",
     "text": [
      "acc:0.296\n"
     ]
    }
   ],
   "source": [
    "print('acc:{}'.format(metrics.accuracy_score(true, pred)))"
   ]
  },
  {
   "cell_type": "code",
   "execution_count": 43,
   "metadata": {},
   "outputs": [
    {
     "name": "stdout",
     "output_type": "stream",
     "text": [
      "              precision    recall  f1-score   support\n",
      "\n",
      "           0       0.21      0.32      0.25        85\n",
      "           1       0.72      0.73      0.73       126\n",
      "           2       0.44      0.33      0.37       116\n",
      "           3       0.28      0.64      0.39       107\n",
      "           4       0.34      0.23      0.27       110\n",
      "           5       0.15      0.11      0.13        87\n",
      "           6       0.27      0.21      0.24        87\n",
      "           7       0.22      0.08      0.12        99\n",
      "           8       0.07      0.11      0.09        89\n",
      "           9       0.00      0.00      0.00        94\n",
      "\n",
      "   micro avg       0.30      0.30      0.30      1000\n",
      "   macro avg       0.27      0.28      0.26      1000\n",
      "weighted avg       0.29      0.30      0.28      1000\n",
      "\n"
     ]
    }
   ],
   "source": [
    "print(metrics.classification_report(true, pred))"
   ]
  },
  {
   "cell_type": "code",
   "execution_count": 44,
   "metadata": {},
   "outputs": [
    {
     "data": {
      "text/plain": [
       "4"
      ]
     },
     "execution_count": 44,
     "metadata": {},
     "output_type": "execute_result"
    }
   ],
   "source": [
    "len(error_all)"
   ]
  },
  {
   "cell_type": "code",
   "execution_count": 45,
   "metadata": {},
   "outputs": [],
   "source": [
    "x = np.arange(len(error_all))"
   ]
  },
  {
   "cell_type": "code",
   "execution_count": 46,
   "metadata": {},
   "outputs": [
    {
     "data": {
      "text/plain": [
       "[<matplotlib.lines.Line2D at 0x121b2a5f8>]"
      ]
     },
     "execution_count": 46,
     "metadata": {},
     "output_type": "execute_result"
    },
    {
     "data": {
      "image/png": "[encoded data removed]",
      "text/plain": [
       "<Figure size 432x288 with 1 Axes>"
      ]
     },
     "metadata": {
      "needs_background": "light"
     },
     "output_type": "display_data"
    }
   ],
   "source": [
    "plt.plot(x, error_all)"
   ]
  },
  {
   "cell_type": "code",
   "execution_count": null,
   "metadata": {},
   "outputs": [],
   "source": []
  }
 ],
 "metadata": {
  "kernelspec": {
   "display_name": "Python 3",
   "language": "python",
   "name": "python3"
  },
  "language_info": {
   "codemirror_mode": {
    "name": "ipython",
    "version": 3
   },
   "file_extension": ".py",
   "mimetype": "text/x-python",
   "name": "python",
   "nbconvert_exporter": "python",
   "pygments_lexer": "ipython3",
   "version": "3.7.1"
  }
 },
 "nbformat": 4,
 "nbformat_minor": 2
}
