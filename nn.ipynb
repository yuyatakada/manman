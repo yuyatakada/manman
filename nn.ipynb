{
 "cells": [
  {
   "cell_type": "code",
   "execution_count": 1,
   "metadata": {},
   "outputs": [],
   "source": [
    "import numpy as np\n",
    "import math\n",
    "np.random.seed(1)"
   ]
  },
  {
   "cell_type": "code",
   "execution_count": 2,
   "metadata": {},
   "outputs": [],
   "source": [
    "N = 1000"
   ]
  },
  {
   "cell_type": "code",
   "execution_count": 3,
   "metadata": {},
   "outputs": [],
   "source": [
    "train_X = (np.random.rand(N, 2) * 1000).astype(np.int32) + 1"
   ]
  },
  {
   "cell_type": "code",
   "execution_count": 4,
   "metadata": {},
   "outputs": [],
   "source": [
    "#1: 細長い。 0: 細長くない\n",
    "train_Y = (train_X.min(axis = 1) / train_X.max(axis = 1) <= 0.2).astype(np.int)[np.newaxis].T"
   ]
  },
  {
   "cell_type": "code",
   "execution_count": 5,
   "metadata": {},
   "outputs": [],
   "source": [
    "MU = train_X.mean(axis = 0)\n",
    "SIGMA = train_X.std(axis = 0)\n",
    "\n",
    "def standardize(x, u = MU, s = SIGMA):\n",
    "    return (x-u) / s\n",
    "\n",
    "train_X = standardize(train_X)"
   ]
  },
  {
   "cell_type": "code",
   "execution_count": 6,
   "metadata": {},
   "outputs": [],
   "source": [
    "W1 = np.random.randn(2, 2)\n",
    "W2 = np.random.randn(2, 2)\n",
    "W3 = np.random.randn(1, 2)\n",
    "\n",
    "b1 = np.random.randn(2)\n",
    "b2 = np.random.randn(2)\n",
    "b3 = np.random.randn(1)"
   ]
  },
  {
   "cell_type": "code",
   "execution_count": 7,
   "metadata": {},
   "outputs": [],
   "source": [
    "def sigmoid(x):\n",
    "    return 1.0 / (1.0 + np.exp(-x))"
   ]
  },
  {
   "cell_type": "code",
   "execution_count": 8,
   "metadata": {},
   "outputs": [],
   "source": [
    "def forward(X0):\n",
    "    Z1 = np.dot(X0, W1.T) + b1\n",
    "    X1 = sigmoid(Z1)\n",
    "    \n",
    "    Z2 = np.dot(X1, W2.T) + b2\n",
    "    X2 = sigmoid(Z2)\n",
    "    \n",
    "    Z3 = np.dot(X2, W3.T) + b3\n",
    "    X3 = sigmoid(Z3)\n",
    "    \n",
    "    return Z1, X1, Z2, X2, Z3, X3"
   ]
  },
  {
   "cell_type": "code",
   "execution_count": 9,
   "metadata": {},
   "outputs": [],
   "source": [
    "def dsigmoid(x):\n",
    "    return (1.0 - sigmoid(x)) * sigmoid(x)"
   ]
  },
  {
   "cell_type": "code",
   "execution_count": 10,
   "metadata": {},
   "outputs": [],
   "source": [
    "def delta_output(Z, Y):\n",
    "    return (sigmoid(Z) - Y) * dsigmoid(Z)"
   ]
  },
  {
   "cell_type": "code",
   "execution_count": 11,
   "metadata": {},
   "outputs": [],
   "source": [
    "def delta_hidden(Z, D, W):\n",
    "    return dsigmoid(Z) * np.dot(D,W)"
   ]
  },
  {
   "cell_type": "code",
   "execution_count": 12,
   "metadata": {},
   "outputs": [],
   "source": [
    "def backword(Y, Z3, Z2, Z1):\n",
    "    D3 = delta_output(Z3, Y)\n",
    "    D2 = delta_hidden(Z2, D3, W3)\n",
    "    D1 = delta_hidden(Z1, D2, W2)\n",
    "    return D3, D2, D1"
   ]
  },
  {
   "cell_type": "code",
   "execution_count": 13,
   "metadata": {},
   "outputs": [],
   "source": [
    "ETA = 1e-3"
   ]
  },
  {
   "cell_type": "code",
   "execution_count": 14,
   "metadata": {},
   "outputs": [],
   "source": [
    "def dweight(D, X):\n",
    "    return np.dot(D.T, X)"
   ]
  },
  {
   "cell_type": "code",
   "execution_count": 15,
   "metadata": {},
   "outputs": [],
   "source": [
    "def dbias(D):\n",
    "    return D.sum(axis=0)"
   ]
  },
  {
   "cell_type": "code",
   "execution_count": 16,
   "metadata": {},
   "outputs": [],
   "source": [
    "def update_parameters(D3, X2, D2, X1, D1, X0):\n",
    "    global W3, W2, W1, b3, b2, b1\n",
    "    W3 = W3 - ETA *dweight(D3, X2)\n",
    "    W2 = W2 - ETA *dweight(D2, X1)\n",
    "    W1 = W1 - ETA *dweight(D1, X0)\n",
    "    b3 = b3 - ETA * dbias(D3)\n",
    "    b2 = b2 - ETA * dbias(D2)\n",
    "    b1 = b1 - ETA * dbias(D1)"
   ]
  },
  {
   "cell_type": "code",
   "execution_count": 17,
   "metadata": {},
   "outputs": [],
   "source": [
    "def train(X, Y):\n",
    "    Z1, X1, Z2, X2, Z3, X3 = forward(X)\n",
    "    D3, D2, D1 = backword(Y, Z3, Z2, Z1)\n",
    "    update_parameters(D3, X2, D2, X1, D1, X)"
   ]
  },
  {
   "cell_type": "code",
   "execution_count": 18,
   "metadata": {},
   "outputs": [],
   "source": [
    "EPOCH = 30000"
   ]
  },
  {
   "cell_type": "code",
   "execution_count": 19,
   "metadata": {},
   "outputs": [],
   "source": [
    "def predict(X):\n",
    "    return forward(X)[-1]"
   ]
  },
  {
   "cell_type": "code",
   "execution_count": 20,
   "metadata": {},
   "outputs": [],
   "source": [
    "def E(Y, X):\n",
    "    return 0.5 * ((Y - predict(X)) ** 2).sum()"
   ]
  },
  {
   "cell_type": "code",
   "execution_count": 21,
   "metadata": {},
   "outputs": [],
   "source": [
    "BATCH = 100"
   ]
  },
  {
   "cell_type": "code",
   "execution_count": 22,
   "metadata": {},
   "outputs": [
    {
     "name": "stdout",
     "output_type": "stream",
     "text": [
      "誤差 =  69.7813 ( 1000エポック目)\n",
      "誤差 =  69.7810 ( 1000エポック目)\n",
      "誤差 =  69.7811 ( 1000エポック目)\n",
      "誤差 =  69.7790 ( 1000エポック目)\n",
      "誤差 =  69.7777 ( 1000エポック目)\n",
      "誤差 =  69.7769 ( 1000エポック目)\n",
      "誤差 =  69.7747 ( 1000エポック目)\n",
      "誤差 =  69.7740 ( 1000エポック目)\n",
      "誤差 =  69.7721 ( 1000エポック目)\n",
      "誤差 =  69.7705 ( 1000エポック目)\n",
      "誤差 =  55.0661 ( 2000エポック目)\n",
      "誤差 =  55.0649 ( 2000エポック目)\n",
      "誤差 =  55.0637 ( 2000エポック目)\n",
      "誤差 =  55.0622 ( 2000エポック目)\n",
      "誤差 =  55.0606 ( 2000エポック目)\n",
      "誤差 =  55.0592 ( 2000エポック目)\n",
      "誤差 =  55.0573 ( 2000エポック目)\n",
      "誤差 =  55.0554 ( 2000エポック目)\n",
      "誤差 =  55.0536 ( 2000エポック目)\n",
      "誤差 =  55.0522 ( 2000エポック目)\n",
      "誤差 =  44.4385 ( 3000エポック目)\n",
      "誤差 =  44.4379 ( 3000エポック目)\n",
      "誤差 =  44.4371 ( 3000エポック目)\n",
      "誤差 =  44.4363 ( 3000エポック目)\n",
      "誤差 =  44.4352 ( 3000エポック目)\n",
      "誤差 =  44.4343 ( 3000エポック目)\n",
      "誤差 =  44.4331 ( 3000エポック目)\n",
      "誤差 =  44.4316 ( 3000エポック目)\n",
      "誤差 =  44.4307 ( 3000エポック目)\n",
      "誤差 =  44.4299 ( 3000エポック目)\n",
      "誤差 =  24.9446 ( 4000エポック目)\n",
      "誤差 =  24.9426 ( 4000エポック目)\n",
      "誤差 =  24.9410 ( 4000エポック目)\n",
      "誤差 =  24.9406 ( 4000エポック目)\n",
      "誤差 =  24.9376 ( 4000エポック目)\n",
      "誤差 =  24.9350 ( 4000エポック目)\n",
      "誤差 =  24.9334 ( 4000エポック目)\n",
      "誤差 =  24.9313 ( 4000エポック目)\n",
      "誤差 =  24.9294 ( 4000エポック目)\n",
      "誤差 =  24.9272 ( 4000エポック目)\n",
      "誤差 =  15.1031 ( 5000エポック目)\n",
      "誤差 =  15.1026 ( 5000エポック目)\n",
      "誤差 =  15.1020 ( 5000エポック目)\n",
      "誤差 =  15.1016 ( 5000エポック目)\n",
      "誤差 =  15.1019 ( 5000エポック目)\n",
      "誤差 =  15.1023 ( 5000エポック目)\n",
      "誤差 =  15.1008 ( 5000エポック目)\n",
      "誤差 =  15.0994 ( 5000エポック目)\n",
      "誤差 =  15.0988 ( 5000エポック目)\n",
      "誤差 =  15.0983 ( 5000エポック目)\n",
      "誤差 =  11.5612 ( 6000エポック目)\n",
      "誤差 =  11.5598 ( 6000エポック目)\n",
      "誤差 =  11.5596 ( 6000エポック目)\n",
      "誤差 =  11.5596 ( 6000エポック目)\n",
      "誤差 =  11.5600 ( 6000エポック目)\n",
      "誤差 =  11.5589 ( 6000エポック目)\n",
      "誤差 =  11.5593 ( 6000エポック目)\n",
      "誤差 =  11.5593 ( 6000エポック目)\n",
      "誤差 =  11.5584 ( 6000エポック目)\n",
      "誤差 =  11.5577 ( 6000エポック目)\n",
      "誤差 =   9.6390 ( 7000エポック目)\n",
      "誤差 =   9.6394 ( 7000エポック目)\n",
      "誤差 =   9.6407 ( 7000エポック目)\n",
      "誤差 =   9.6399 ( 7000エポック目)\n",
      "誤差 =   9.6387 ( 7000エポック目)\n",
      "誤差 =   9.6424 ( 7000エポック目)\n",
      "誤差 =   9.6419 ( 7000エポック目)\n",
      "誤差 =   9.6459 ( 7000エポック目)\n",
      "誤差 =   9.6381 ( 7000エポック目)\n",
      "誤差 =   9.6375 ( 7000エポック目)\n",
      "誤差 =   8.4035 ( 8000エポック目)\n",
      "誤差 =   8.4038 ( 8000エポック目)\n",
      "誤差 =   8.4037 ( 8000エポック目)\n",
      "誤差 =   8.4036 ( 8000エポック目)\n",
      "誤差 =   8.4039 ( 8000エポック目)\n",
      "誤差 =   8.4034 ( 8000エポック目)\n",
      "誤差 =   8.4037 ( 8000エポック目)\n",
      "誤差 =   8.4026 ( 8000エポック目)\n",
      "誤差 =   8.4033 ( 8000エポック目)\n",
      "誤差 =   8.4023 ( 8000エポック目)\n",
      "誤差 =   7.5292 ( 9000エポック目)\n",
      "誤差 =   7.5295 ( 9000エポック目)\n",
      "誤差 =   7.5313 ( 9000エポック目)\n",
      "誤差 =   7.5299 ( 9000エポック目)\n",
      "誤差 =   7.5285 ( 9000エポック目)\n",
      "誤差 =   7.5283 ( 9000エポック目)\n",
      "誤差 =   7.5282 ( 9000エポック目)\n",
      "誤差 =   7.5283 ( 9000エポック目)\n",
      "誤差 =   7.5285 ( 9000エポック目)\n",
      "誤差 =   7.5279 ( 9000エポック目)\n",
      "誤差 =   6.8686 (10000エポック目)\n",
      "誤差 =   6.8690 (10000エポック目)\n",
      "誤差 =   6.8697 (10000エポック目)\n",
      "誤差 =   6.8699 (10000エポック目)\n",
      "誤差 =   6.8699 (10000エポック目)\n",
      "誤差 =   6.8699 (10000エポック目)\n",
      "誤差 =   6.8708 (10000エポック目)\n",
      "誤差 =   6.8697 (10000エポック目)\n",
      "誤差 =   6.8685 (10000エポック目)\n",
      "誤差 =   6.8681 (10000エポック目)\n",
      "誤差 =   6.3489 (11000エポック目)\n",
      "誤差 =   6.3500 (11000エポック目)\n",
      "誤差 =   6.3504 (11000エポック目)\n",
      "誤差 =   6.3547 (11000エポック目)\n",
      "誤差 =   6.3536 (11000エポック目)\n",
      "誤差 =   6.3505 (11000エポック目)\n",
      "誤差 =   6.3495 (11000エポック目)\n",
      "誤差 =   6.3489 (11000エポック目)\n",
      "誤差 =   6.3472 (11000エポック目)\n",
      "誤差 =   6.3472 (11000エポック目)\n",
      "誤差 =   5.9226 (12000エポック目)\n",
      "誤差 =   5.9265 (12000エポック目)\n",
      "誤差 =   5.9250 (12000エポック目)\n",
      "誤差 =   5.9232 (12000エポック目)\n",
      "誤差 =   5.9243 (12000エポック目)\n",
      "誤差 =   5.9243 (12000エポック目)\n",
      "誤差 =   5.9234 (12000エポック目)\n",
      "誤差 =   5.9231 (12000エポック目)\n",
      "誤差 =   5.9239 (12000エポック目)\n",
      "誤差 =   5.9225 (12000エポック目)\n",
      "誤差 =   5.5676 (13000エポック目)\n",
      "誤差 =   5.5706 (13000エポック目)\n",
      "誤差 =   5.5750 (13000エポック目)\n",
      "誤差 =   5.5784 (13000エポック目)\n",
      "誤差 =   5.5797 (13000エポック目)\n",
      "誤差 =   5.5745 (13000エポック目)\n",
      "誤差 =   5.5677 (13000エポック目)\n",
      "誤差 =   5.5681 (13000エポック目)\n",
      "誤差 =   5.5673 (13000エポック目)\n",
      "誤差 =   5.5672 (13000エポック目)\n",
      "誤差 =   5.2652 (14000エポック目)\n",
      "誤差 =   5.2657 (14000エポック目)\n",
      "誤差 =   5.2657 (14000エポック目)\n",
      "誤差 =   5.2652 (14000エポック目)\n",
      "誤差 =   5.2654 (14000エポック目)\n",
      "誤差 =   5.2670 (14000エポック目)\n",
      "誤差 =   5.2652 (14000エポック目)\n",
      "誤差 =   5.2650 (14000エポック目)\n",
      "誤差 =   5.2650 (14000エポック目)\n",
      "誤差 =   5.2649 (14000エポック目)\n",
      "誤差 =   5.0044 (15000エポック目)\n",
      "誤差 =   5.0042 (15000エポック目)\n",
      "誤差 =   5.0041 (15000エポック目)\n",
      "誤差 =   5.0041 (15000エポック目)\n",
      "誤差 =   5.0042 (15000エポック目)\n",
      "誤差 =   5.0040 (15000エポック目)\n",
      "誤差 =   5.0042 (15000エポック目)\n",
      "誤差 =   5.0041 (15000エポック目)\n",
      "誤差 =   5.0042 (15000エポック目)\n",
      "誤差 =   5.0039 (15000エポック目)\n",
      "誤差 =   4.7768 (16000エポック目)\n",
      "誤差 =   4.7765 (16000エポック目)\n",
      "誤差 =   4.7764 (16000エポック目)\n",
      "誤差 =   4.7765 (16000エポック目)\n",
      "誤差 =   4.7770 (16000エポック目)\n",
      "誤差 =   4.7777 (16000エポック目)\n",
      "誤差 =   4.7765 (16000エポック目)\n",
      "誤差 =   4.7763 (16000エポック目)\n",
      "誤差 =   4.7763 (16000エポック目)\n",
      "誤差 =   4.7761 (16000エポック目)\n",
      "誤差 =   4.5760 (17000エポック目)\n",
      "誤差 =   4.5776 (17000エポック目)\n",
      "誤差 =   4.5778 (17000エポック目)\n",
      "誤差 =   4.5811 (17000エポック目)\n",
      "誤差 =   4.5760 (17000エポック目)\n",
      "誤差 =   4.5760 (17000エポック目)\n",
      "誤差 =   4.5757 (17000エポック目)\n",
      "誤差 =   4.5755 (17000エポック目)\n",
      "誤差 =   4.5758 (17000エポック目)\n",
      "誤差 =   4.5755 (17000エポック目)\n",
      "誤差 =   4.3977 (18000エポック目)\n",
      "誤差 =   4.3983 (18000エポック目)\n",
      "誤差 =   4.3982 (18000エポック目)\n",
      "誤差 =   4.3991 (18000エポック目)\n",
      "誤差 =   4.4017 (18000エポック目)\n",
      "誤差 =   4.4022 (18000エポック目)\n",
      "誤差 =   4.4025 (18000エポック目)\n",
      "誤差 =   4.4007 (18000エポック目)\n",
      "誤差 =   4.3975 (18000エポック目)\n",
      "誤差 =   4.3975 (18000エポック目)\n",
      "誤差 =   4.2386 (19000エポック目)\n",
      "誤差 =   4.2394 (19000エポック目)\n",
      "誤差 =   4.2397 (19000エポック目)\n",
      "誤差 =   4.2401 (19000エポック目)\n",
      "誤差 =   4.2388 (19000エポック目)\n",
      "誤差 =   4.2389 (19000エポック目)\n",
      "誤差 =   4.2388 (19000エポック目)\n",
      "誤差 =   4.2390 (19000エポック目)\n",
      "誤差 =   4.2384 (19000エポック目)\n",
      "誤差 =   4.2384 (19000エポック目)\n",
      "誤差 =   4.0961 (20000エポック目)\n",
      "誤差 =   4.0959 (20000エポック目)\n",
      "誤差 =   4.0962 (20000エポック目)\n",
      "誤差 =   4.0996 (20000エポック目)\n",
      "誤差 =   4.0999 (20000エポック目)\n",
      "誤差 =   4.0981 (20000エポック目)\n",
      "誤差 =   4.0963 (20000エポック目)\n",
      "誤差 =   4.0961 (20000エポック目)\n",
      "誤差 =   4.0961 (20000エポック目)\n",
      "誤差 =   4.0956 (20000エポック目)\n",
      "誤差 =   3.9669 (21000エポック目)\n",
      "誤差 =   3.9667 (21000エポック目)\n",
      "誤差 =   3.9668 (21000エポック目)\n",
      "誤差 =   3.9671 (21000エポック目)\n",
      "誤差 =   3.9680 (21000エポック目)\n",
      "誤差 =   3.9674 (21000エポック目)\n",
      "誤差 =   3.9682 (21000エポック目)\n",
      "誤差 =   3.9677 (21000エポック目)\n",
      "誤差 =   3.9667 (21000エポック目)\n",
      "誤差 =   3.9667 (21000エポック目)\n",
      "誤差 =   3.8518 (22000エポック目)\n",
      "誤差 =   3.8545 (22000エポック目)\n",
      "誤差 =   3.8549 (22000エポック目)\n",
      "誤差 =   3.8544 (22000エポック目)\n",
      "誤差 =   3.8525 (22000エポック目)\n",
      "誤差 =   3.8518 (22000エポック目)\n",
      "誤差 =   3.8498 (22000エポック目)\n",
      "誤差 =   3.8498 (22000エポック目)\n",
      "誤差 =   3.8513 (22000エポック目)\n",
      "誤差 =   3.8496 (22000エポック目)\n",
      "誤差 =   3.7433 (23000エポック目)\n",
      "誤差 =   3.7443 (23000エポック目)\n",
      "誤差 =   3.7450 (23000エポック目)\n",
      "誤差 =   3.7451 (23000エポック目)\n",
      "誤差 =   3.7448 (23000エポック目)\n",
      "誤差 =   3.7443 (23000エポック目)\n",
      "誤差 =   3.7447 (23000エポック目)\n",
      "誤差 =   3.7438 (23000エポック目)\n",
      "誤差 =   3.7433 (23000エポック目)\n",
      "誤差 =   3.7430 (23000エポック目)\n",
      "誤差 =   3.6459 (24000エポック目)\n",
      "誤差 =   3.6456 (24000エポック目)\n",
      "誤差 =   3.6467 (24000エポック目)\n",
      "誤差 =   3.6466 (24000エポック目)\n",
      "誤差 =   3.6456 (24000エポック目)\n",
      "誤差 =   3.6467 (24000エポック目)\n",
      "誤差 =   3.6461 (24000エポック目)\n",
      "誤差 =   3.6475 (24000エポック目)\n",
      "誤差 =   3.6466 (24000エポック目)\n",
      "誤差 =   3.6453 (24000エポック目)\n",
      "誤差 =   3.5571 (25000エポック目)\n",
      "誤差 =   3.5577 (25000エポック目)\n",
      "誤差 =   3.5572 (25000エポック目)\n",
      "誤差 =   3.5575 (25000エポック目)\n",
      "誤差 =   3.5577 (25000エポック目)\n",
      "誤差 =   3.5577 (25000エポック目)\n",
      "誤差 =   3.5558 (25000エポック目)\n",
      "誤差 =   3.5557 (25000エポック目)\n",
      "誤差 =   3.5568 (25000エポック目)\n",
      "誤差 =   3.5555 (25000エポック目)\n",
      "誤差 =   3.4738 (26000エポック目)\n",
      "誤差 =   3.4729 (26000エポック目)\n",
      "誤差 =   3.4739 (26000エポック目)\n",
      "誤差 =   3.4731 (26000エポック目)\n",
      "誤差 =   3.4734 (26000エポック目)\n",
      "誤差 =   3.4732 (26000エポック目)\n",
      "誤差 =   3.4734 (26000エポック目)\n",
      "誤差 =   3.4740 (26000エポック目)\n",
      "誤差 =   3.4728 (26000エポック目)\n",
      "誤差 =   3.4725 (26000エポック目)\n",
      "誤差 =   3.3956 (27000エポック目)\n",
      "誤差 =   3.3957 (27000エポック目)\n",
      "誤差 =   3.3971 (27000エポック目)\n",
      "誤差 =   3.3990 (27000エポック目)\n",
      "誤差 =   3.3979 (27000エポック目)\n",
      "誤差 =   3.3961 (27000エポック目)\n",
      "誤差 =   3.3965 (27000エポック目)\n",
      "誤差 =   3.3961 (27000エポック目)\n",
      "誤差 =   3.3962 (27000エポック目)\n",
      "誤差 =   3.3955 (27000エポック目)\n",
      "誤差 =   3.3242 (28000エポック目)\n",
      "誤差 =   3.3248 (28000エポック目)\n",
      "誤差 =   3.3240 (28000エポック目)\n",
      "誤差 =   3.3239 (28000エポック目)\n",
      "誤差 =   3.3241 (28000エポック目)\n",
      "誤差 =   3.3240 (28000エポック目)\n",
      "誤差 =   3.3242 (28000エポック目)\n",
      "誤差 =   3.3239 (28000エポック目)\n",
      "誤差 =   3.3239 (28000エポック目)\n",
      "誤差 =   3.3238 (28000エポック目)\n",
      "誤差 =   3.2569 (29000エポック目)\n",
      "誤差 =   3.2573 (29000エポック目)\n",
      "誤差 =   3.2576 (29000エポック目)\n",
      "誤差 =   3.2568 (29000エポック目)\n",
      "誤差 =   3.2571 (29000エポック目)\n",
      "誤差 =   3.2570 (29000エポック目)\n",
      "誤差 =   3.2583 (29000エポック目)\n",
      "誤差 =   3.2573 (29000エポック目)\n",
      "誤差 =   3.2569 (29000エポック目)\n",
      "誤差 =   3.2566 (29000エポック目)\n",
      "誤差 =   3.1934 (30000エポック目)\n",
      "誤差 =   3.1936 (30000エポック目)\n",
      "誤差 =   3.1954 (30000エポック目)\n",
      "誤差 =   3.1951 (30000エポック目)\n",
      "誤差 =   3.1974 (30000エポック目)\n",
      "誤差 =   3.2032 (30000エポック目)\n",
      "誤差 =   3.2022 (30000エポック目)\n",
      "誤差 =   3.1958 (30000エポック目)\n",
      "誤差 =   3.1935 (30000エポック目)\n",
      "誤差 =   3.1936 (30000エポック目)\n",
      "CPU times: user 1min 12s, sys: 260 ms, total: 1min 12s\n",
      "Wall time: 1min 13s\n"
     ]
    }
   ],
   "source": [
    "%%time\n",
    "diff_all = []\n",
    "for epoch in range(1, EPOCH + 1):\n",
    "    p = np.random.permutation(len(train_X))\n",
    "    \n",
    "    for i in range(math.ceil(len(train_X) / BATCH)):\n",
    "        indice = p[i*BATCH:(i+1)*BATCH]\n",
    "        X0 = train_X[indice]\n",
    "        Y = train_Y[indice]\n",
    "        train(X0, Y)\n",
    "        \n",
    "        diff = E(train_Y, train_X)\n",
    "        diff_all.append(diff)\n",
    "        if epoch % 1000 == 0:\n",
    "            log = '誤差 = {:8.4f} ({:5d}エポック目)'\n",
    "            print(log.format(diff, epoch))"
   ]
  },
  {
   "cell_type": "code",
   "execution_count": 23,
   "metadata": {},
   "outputs": [],
   "source": [
    "test_X = standardize([\n",
    "    [100, 100],\n",
    "    [100, 10],\n",
    "    [10, 100],\n",
    "    [80, 100]\n",
    "])"
   ]
  },
  {
   "cell_type": "code",
   "execution_count": 24,
   "metadata": {},
   "outputs": [
    {
     "data": {
      "text/plain": [
       "array([[0.00097628],\n",
       "       [0.82436398],\n",
       "       [0.94022858],\n",
       "       [0.00173001]])"
      ]
     },
     "execution_count": 24,
     "metadata": {},
     "output_type": "execute_result"
    }
   ],
   "source": [
    "predict(test_X)"
   ]
  },
  {
   "cell_type": "code",
   "execution_count": 25,
   "metadata": {},
   "outputs": [],
   "source": [
    "def classify(X):\n",
    "    return (predict(X) > 0.8).astype(np.int)"
   ]
  },
  {
   "cell_type": "code",
   "execution_count": 26,
   "metadata": {},
   "outputs": [
    {
     "data": {
      "text/plain": [
       "array([[0],\n",
       "       [1],\n",
       "       [1],\n",
       "       [0]])"
      ]
     },
     "execution_count": 26,
     "metadata": {},
     "output_type": "execute_result"
    }
   ],
   "source": [
    "classify(test_X)"
   ]
  },
  {
   "cell_type": "code",
   "execution_count": 27,
   "metadata": {},
   "outputs": [],
   "source": [
    "TEST_N = 1000"
   ]
  },
  {
   "cell_type": "code",
   "execution_count": 28,
   "metadata": {},
   "outputs": [],
   "source": [
    "test_X = (np.random.rand(TEST_N, 2) * 1000).astype(np.int32) + 1\n",
    "test_Y = (test_X.min(axis = 1) / test_X.max(axis = 1) <= 0.2).astype(np.int)[np.newaxis].T"
   ]
  },
  {
   "cell_type": "code",
   "execution_count": 29,
   "metadata": {},
   "outputs": [],
   "source": [
    "accuracy = (classify(standardize(test_X)) == test_Y).sum()  / TEST_N"
   ]
  },
  {
   "cell_type": "code",
   "execution_count": 30,
   "metadata": {},
   "outputs": [
    {
     "name": "stdout",
     "output_type": "stream",
     "text": [
      "0.984\n"
     ]
    }
   ],
   "source": [
    "print(accuracy)"
   ]
  },
  {
   "cell_type": "code",
   "execution_count": 31,
   "metadata": {},
   "outputs": [],
   "source": [
    "import matplotlib.pyplot as plt                                                                                                                                                                                                                                                                                                                                                                                                                                                                                                                                                                                                                                                                                                                                                                                                                                                                                                                                                                                                                                                                                                                                                                                                                                                                                                                                                                                                                                                                                                                                                                                                                                                                                                                                                                                                                                                                                                                                                                                                                                                                                                                                                                                                                                                                                                                                                                                                                                                                                                                                                                                                                                                                                                                                                                                                                                                                                                                                                                                                                                                                                                                                                                                                                                                                                                                                                                                                                                                                                                                                                                                                                                                                                                                                                                                                                                                                                                                                                                                        "
   ]
  },
  {
   "cell_type": "code",
   "execution_count": 33,
   "metadata": {},
   "outputs": [],
   "source": [
    "x = np.arange(len(diff_all))"
   ]
  },
  {
   "cell_type": "code",
   "execution_count": 34,
   "metadata": {},
   "outputs": [
    {
     "data": {
      "text/plain": [
       "[<matplotlib.lines.Line2D at 0x114add748>]"
      ]
     },
     "execution_count": 34,
     "metadata": {},
     "output_type": "execute_result"
    },
    {
     "data": {
      "image/png": "[encoded data removed]",
      "text/plain": [
       "<Figure size 432x288 with 1 Axes>"
      ]
     },
     "metadata": {
      "needs_background": "light"
     },
     "output_type": "display_data"
    }
   ],
   "source": [
    "plt.plot(x, diff_all)"
   ]
  },
  {
   "cell_type": "code",
   "execution_count": null,
   "metadata": {},
   "outputs": [],
   "source": []
  }
 ],
 "metadata": {
  "kernelspec": {
   "display_name": "Python 3",
   "language": "python",
   "name": "python3"
  },
  "language_info": {
   "codemirror_mode": {
    "name": "ipython",
    "version": 3
   },
   "file_extension": ".py",
   "mimetype": "text/x-python",
   "name": "python",
   "nbconvert_exporter": "python",
   "pygments_lexer": "ipython3",
   "version": "3.7.1"
  }
 },
 "nbformat": 4,
 "nbformat_minor": 2
}
