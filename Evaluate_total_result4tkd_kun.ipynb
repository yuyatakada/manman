{
 "cells": [
  {
   "cell_type": "markdown",
   "metadata": {},
   "source": [
    "### 各要素（車番、分類番号、地域名、ひらがな）の識別結果をマージし、プレート全体での正答率を算出"
   ]
  },
  {
   "cell_type": "code",
   "execution_count": 1,
   "metadata": {},
   "outputs": [],
   "source": [
    "import pandas as pd\n",
    "import numpy as np\n",
    "\n",
    "import os\n",
    "import glob\n",
    "from tqdm import tqdm\n",
    "\n",
    "import matplotlib.pyplot as plt\n",
    "import matplotlib as mpl\n",
    "mpl.rcParams['font.family'] = 'Arial Unicode MS'\n",
    "import seaborn as sns; sns.set_palette('husl')\n",
    "\n",
    "from PIL import Image\n",
    "from IPython.display import display"
   ]
  },
  {
   "cell_type": "markdown",
   "metadata": {},
   "source": [
    "### 個々の評価結果をマージ"
   ]
  },
  {
   "cell_type": "code",
   "execution_count": 2,
   "metadata": {},
   "outputs": [
    {
     "ename": "FileNotFoundError",
     "evalue": "[Errno 2] File b'./results/1106/large_num_result.csv' does not exist: b'./results/1106/large_num_result.csv'",
     "output_type": "error",
     "traceback": [
      "\u001b[0;31m---------------------------------------------------------------------------\u001b[0m",
      "\u001b[0;31mFileNotFoundError\u001b[0m                         Traceback (most recent call last)",
      "\u001b[0;32m<ipython-input-2-c8ad3a3dc584>\u001b[0m in \u001b[0;36m<module>\u001b[0;34m\u001b[0m\n\u001b[0;32m----> 1\u001b[0;31m \u001b[0mdf_large_num_result\u001b[0m \u001b[0;34m=\u001b[0m \u001b[0mpd\u001b[0m\u001b[0;34m.\u001b[0m\u001b[0mread_csv\u001b[0m\u001b[0;34m(\u001b[0m\u001b[0;34m\"./results/1106/large_num_result.csv\"\u001b[0m\u001b[0;34m,\u001b[0m \u001b[0mencoding\u001b[0m\u001b[0;34m=\u001b[0m\u001b[0;34m\"utf-8-sig\"\u001b[0m\u001b[0;34m)\u001b[0m\u001b[0;34m\u001b[0m\u001b[0m\n\u001b[0m\u001b[1;32m      2\u001b[0m \u001b[0mdf_small_num_result\u001b[0m \u001b[0;34m=\u001b[0m \u001b[0mpd\u001b[0m\u001b[0;34m.\u001b[0m\u001b[0mread_csv\u001b[0m\u001b[0;34m(\u001b[0m\u001b[0;34m\"./results/1106/small_num_result.csv\"\u001b[0m\u001b[0;34m,\u001b[0m\u001b[0mencoding\u001b[0m\u001b[0;34m=\u001b[0m\u001b[0;34m\"utf-8-sig\"\u001b[0m\u001b[0;34m)\u001b[0m\u001b[0;34m\u001b[0m\u001b[0m\n\u001b[1;32m      3\u001b[0m \u001b[0mdf_region_result\u001b[0m \u001b[0;34m=\u001b[0m \u001b[0mpd\u001b[0m\u001b[0;34m.\u001b[0m\u001b[0mread_csv\u001b[0m\u001b[0;34m(\u001b[0m\u001b[0;34m\"./results/1106/region_result.csv\"\u001b[0m\u001b[0;34m,\u001b[0m\u001b[0mencoding\u001b[0m\u001b[0;34m=\u001b[0m\u001b[0;34m\"utf-8-sig\"\u001b[0m\u001b[0;34m)\u001b[0m\u001b[0;34m\u001b[0m\u001b[0m\n\u001b[1;32m      4\u001b[0m \u001b[0mdf_hiragana_result\u001b[0m \u001b[0;34m=\u001b[0m \u001b[0mpd\u001b[0m\u001b[0;34m.\u001b[0m\u001b[0mread_csv\u001b[0m\u001b[0;34m(\u001b[0m\u001b[0;34m\"./results/1106/hiragana_result.csv\"\u001b[0m\u001b[0;34m,\u001b[0m\u001b[0mencoding\u001b[0m\u001b[0;34m=\u001b[0m\u001b[0;34m\"utf-8-sig\"\u001b[0m\u001b[0;34m)\u001b[0m\u001b[0;34m\u001b[0m\u001b[0m\n",
      "\u001b[0;32m~/.pyenv/versions/anaconda3-4.3.1/envs/py3.6.0/lib/python3.6/site-packages/pandas/io/parsers.py\u001b[0m in \u001b[0;36mparser_f\u001b[0;34m(filepath_or_buffer, sep, delimiter, header, names, index_col, usecols, squeeze, prefix, mangle_dupe_cols, dtype, engine, converters, true_values, false_values, skipinitialspace, skiprows, skipfooter, nrows, na_values, keep_default_na, na_filter, verbose, skip_blank_lines, parse_dates, infer_datetime_format, keep_date_col, date_parser, dayfirst, cache_dates, iterator, chunksize, compression, thousands, decimal, lineterminator, quotechar, quoting, doublequote, escapechar, comment, encoding, dialect, error_bad_lines, warn_bad_lines, delim_whitespace, low_memory, memory_map, float_precision)\u001b[0m\n\u001b[1;32m    683\u001b[0m         )\n\u001b[1;32m    684\u001b[0m \u001b[0;34m\u001b[0m\u001b[0m\n\u001b[0;32m--> 685\u001b[0;31m         \u001b[0;32mreturn\u001b[0m \u001b[0m_read\u001b[0m\u001b[0;34m(\u001b[0m\u001b[0mfilepath_or_buffer\u001b[0m\u001b[0;34m,\u001b[0m \u001b[0mkwds\u001b[0m\u001b[0;34m)\u001b[0m\u001b[0;34m\u001b[0m\u001b[0m\n\u001b[0m\u001b[1;32m    686\u001b[0m \u001b[0;34m\u001b[0m\u001b[0m\n\u001b[1;32m    687\u001b[0m     \u001b[0mparser_f\u001b[0m\u001b[0;34m.\u001b[0m\u001b[0m__name__\u001b[0m \u001b[0;34m=\u001b[0m \u001b[0mname\u001b[0m\u001b[0;34m\u001b[0m\u001b[0m\n",
      "\u001b[0;32m~/.pyenv/versions/anaconda3-4.3.1/envs/py3.6.0/lib/python3.6/site-packages/pandas/io/parsers.py\u001b[0m in \u001b[0;36m_read\u001b[0;34m(filepath_or_buffer, kwds)\u001b[0m\n\u001b[1;32m    455\u001b[0m \u001b[0;34m\u001b[0m\u001b[0m\n\u001b[1;32m    456\u001b[0m     \u001b[0;31m# Create the parser.\u001b[0m\u001b[0;34m\u001b[0m\u001b[0;34m\u001b[0m\u001b[0m\n\u001b[0;32m--> 457\u001b[0;31m     \u001b[0mparser\u001b[0m \u001b[0;34m=\u001b[0m \u001b[0mTextFileReader\u001b[0m\u001b[0;34m(\u001b[0m\u001b[0mfp_or_buf\u001b[0m\u001b[0;34m,\u001b[0m \u001b[0;34m**\u001b[0m\u001b[0mkwds\u001b[0m\u001b[0;34m)\u001b[0m\u001b[0;34m\u001b[0m\u001b[0m\n\u001b[0m\u001b[1;32m    458\u001b[0m \u001b[0;34m\u001b[0m\u001b[0m\n\u001b[1;32m    459\u001b[0m     \u001b[0;32mif\u001b[0m \u001b[0mchunksize\u001b[0m \u001b[0;32mor\u001b[0m \u001b[0miterator\u001b[0m\u001b[0;34m:\u001b[0m\u001b[0;34m\u001b[0m\u001b[0m\n",
      "\u001b[0;32m~/.pyenv/versions/anaconda3-4.3.1/envs/py3.6.0/lib/python3.6/site-packages/pandas/io/parsers.py\u001b[0m in \u001b[0;36m__init__\u001b[0;34m(self, f, engine, **kwds)\u001b[0m\n\u001b[1;32m    893\u001b[0m             \u001b[0mself\u001b[0m\u001b[0;34m.\u001b[0m\u001b[0moptions\u001b[0m\u001b[0;34m[\u001b[0m\u001b[0;34m\"has_index_names\"\u001b[0m\u001b[0;34m]\u001b[0m \u001b[0;34m=\u001b[0m \u001b[0mkwds\u001b[0m\u001b[0;34m[\u001b[0m\u001b[0;34m\"has_index_names\"\u001b[0m\u001b[0;34m]\u001b[0m\u001b[0;34m\u001b[0m\u001b[0m\n\u001b[1;32m    894\u001b[0m \u001b[0;34m\u001b[0m\u001b[0m\n\u001b[0;32m--> 895\u001b[0;31m         \u001b[0mself\u001b[0m\u001b[0;34m.\u001b[0m\u001b[0m_make_engine\u001b[0m\u001b[0;34m(\u001b[0m\u001b[0mself\u001b[0m\u001b[0;34m.\u001b[0m\u001b[0mengine\u001b[0m\u001b[0;34m)\u001b[0m\u001b[0;34m\u001b[0m\u001b[0m\n\u001b[0m\u001b[1;32m    896\u001b[0m \u001b[0;34m\u001b[0m\u001b[0m\n\u001b[1;32m    897\u001b[0m     \u001b[0;32mdef\u001b[0m \u001b[0mclose\u001b[0m\u001b[0;34m(\u001b[0m\u001b[0mself\u001b[0m\u001b[0;34m)\u001b[0m\u001b[0;34m:\u001b[0m\u001b[0;34m\u001b[0m\u001b[0m\n",
      "\u001b[0;32m~/.pyenv/versions/anaconda3-4.3.1/envs/py3.6.0/lib/python3.6/site-packages/pandas/io/parsers.py\u001b[0m in \u001b[0;36m_make_engine\u001b[0;34m(self, engine)\u001b[0m\n\u001b[1;32m   1133\u001b[0m     \u001b[0;32mdef\u001b[0m \u001b[0m_make_engine\u001b[0m\u001b[0;34m(\u001b[0m\u001b[0mself\u001b[0m\u001b[0;34m,\u001b[0m \u001b[0mengine\u001b[0m\u001b[0;34m=\u001b[0m\u001b[0;34m\"c\"\u001b[0m\u001b[0;34m)\u001b[0m\u001b[0;34m:\u001b[0m\u001b[0;34m\u001b[0m\u001b[0m\n\u001b[1;32m   1134\u001b[0m         \u001b[0;32mif\u001b[0m \u001b[0mengine\u001b[0m \u001b[0;34m==\u001b[0m \u001b[0;34m\"c\"\u001b[0m\u001b[0;34m:\u001b[0m\u001b[0;34m\u001b[0m\u001b[0m\n\u001b[0;32m-> 1135\u001b[0;31m             \u001b[0mself\u001b[0m\u001b[0;34m.\u001b[0m\u001b[0m_engine\u001b[0m \u001b[0;34m=\u001b[0m \u001b[0mCParserWrapper\u001b[0m\u001b[0;34m(\u001b[0m\u001b[0mself\u001b[0m\u001b[0;34m.\u001b[0m\u001b[0mf\u001b[0m\u001b[0;34m,\u001b[0m \u001b[0;34m**\u001b[0m\u001b[0mself\u001b[0m\u001b[0;34m.\u001b[0m\u001b[0moptions\u001b[0m\u001b[0;34m)\u001b[0m\u001b[0;34m\u001b[0m\u001b[0m\n\u001b[0m\u001b[1;32m   1136\u001b[0m         \u001b[0;32melse\u001b[0m\u001b[0;34m:\u001b[0m\u001b[0;34m\u001b[0m\u001b[0m\n\u001b[1;32m   1137\u001b[0m             \u001b[0;32mif\u001b[0m \u001b[0mengine\u001b[0m \u001b[0;34m==\u001b[0m \u001b[0;34m\"python\"\u001b[0m\u001b[0;34m:\u001b[0m\u001b[0;34m\u001b[0m\u001b[0m\n",
      "\u001b[0;32m~/.pyenv/versions/anaconda3-4.3.1/envs/py3.6.0/lib/python3.6/site-packages/pandas/io/parsers.py\u001b[0m in \u001b[0;36m__init__\u001b[0;34m(self, src, **kwds)\u001b[0m\n\u001b[1;32m   1915\u001b[0m         \u001b[0mkwds\u001b[0m\u001b[0;34m[\u001b[0m\u001b[0;34m\"usecols\"\u001b[0m\u001b[0;34m]\u001b[0m \u001b[0;34m=\u001b[0m \u001b[0mself\u001b[0m\u001b[0;34m.\u001b[0m\u001b[0musecols\u001b[0m\u001b[0;34m\u001b[0m\u001b[0m\n\u001b[1;32m   1916\u001b[0m \u001b[0;34m\u001b[0m\u001b[0m\n\u001b[0;32m-> 1917\u001b[0;31m         \u001b[0mself\u001b[0m\u001b[0;34m.\u001b[0m\u001b[0m_reader\u001b[0m \u001b[0;34m=\u001b[0m \u001b[0mparsers\u001b[0m\u001b[0;34m.\u001b[0m\u001b[0mTextReader\u001b[0m\u001b[0;34m(\u001b[0m\u001b[0msrc\u001b[0m\u001b[0;34m,\u001b[0m \u001b[0;34m**\u001b[0m\u001b[0mkwds\u001b[0m\u001b[0;34m)\u001b[0m\u001b[0;34m\u001b[0m\u001b[0m\n\u001b[0m\u001b[1;32m   1918\u001b[0m         \u001b[0mself\u001b[0m\u001b[0;34m.\u001b[0m\u001b[0munnamed_cols\u001b[0m \u001b[0;34m=\u001b[0m \u001b[0mself\u001b[0m\u001b[0;34m.\u001b[0m\u001b[0m_reader\u001b[0m\u001b[0;34m.\u001b[0m\u001b[0munnamed_cols\u001b[0m\u001b[0;34m\u001b[0m\u001b[0m\n\u001b[1;32m   1919\u001b[0m \u001b[0;34m\u001b[0m\u001b[0m\n",
      "\u001b[0;32mpandas/_libs/parsers.pyx\u001b[0m in \u001b[0;36mpandas._libs.parsers.TextReader.__cinit__\u001b[0;34m()\u001b[0m\n",
      "\u001b[0;32mpandas/_libs/parsers.pyx\u001b[0m in \u001b[0;36mpandas._libs.parsers.TextReader._setup_parser_source\u001b[0;34m()\u001b[0m\n",
      "\u001b[0;31mFileNotFoundError\u001b[0m: [Errno 2] File b'./results/1106/large_num_result.csv' does not exist: b'./results/1106/large_num_result.csv'"
     ]
    }
   ],
   "source": [
    "df_large_num_result = pd.read_csv(\"./results/1106/large_num_result.csv\", encoding=\"utf-8-sig\")\n",
    "df_small_num_result = pd.read_csv(\"./results/1106/small_num_result.csv\",encoding=\"utf-8-sig\")\n",
    "df_region_result = pd.read_csv(\"./results/1106/region_result.csv\",encoding=\"utf-8-sig\")\n",
    "df_hiragana_result = pd.read_csv(\"./results/1106/hiragana_result.csv\",encoding=\"utf-8-sig\")"
   ]
  },
  {
   "cell_type": "code",
   "execution_count": null,
   "metadata": {},
   "outputs": [],
   "source": [
    "result_merged = pd.merge(df_large_num_result, df_small_num_result, on=\"img_name\")\n",
    "result_merged = pd.merge(result_merged, df_region_result, on=\"img_name\")\n",
    "result_merged = pd.merge(result_merged, df_hiragana_result, on=\"img_name\")"
   ]
  },
  {
   "cell_type": "code",
   "execution_count": null,
   "metadata": {},
   "outputs": [],
   "source": [
    "#small numのtrue labelが30または31のデータを除外する\n",
    "exclude_label = [\"30\", \"31\"]\n",
    "result_merged = result_merged[~result_merged[\"true_label_small\"].isin(exclude_label)]"
   ]
  },
  {
   "cell_type": "code",
   "execution_count": null,
   "metadata": {},
   "outputs": [],
   "source": [
    "result_merged.head()"
   ]
  },
  {
   "cell_type": "markdown",
   "metadata": {},
   "source": [
    "## 評価実施"
   ]
  },
  {
   "cell_type": "markdown",
   "metadata": {},
   "source": [
    "### validデータ全体での評価"
   ]
  },
  {
   "cell_type": "code",
   "execution_count": null,
   "metadata": {},
   "outputs": [],
   "source": [
    "true_cnt = 0\n",
    "for idx_, row_ in result_merged.iterrows():\n",
    "    if (row_[\"pred_label_large\"] == row_[\"true_label_large\"]) & (row_[\"pred_label_small\"] == row_[\"true_label_small\"]) & (row_[\"pred_label_region\"] == row_[\"true_label_region\"]) & (row_[\"pred_label_hiragana\"] == row_[\"true_label_hiragana\"]):\n",
    "        true_cnt += 1"
   ]
  },
  {
   "cell_type": "code",
   "execution_count": null,
   "metadata": {},
   "outputs": [],
   "source": [
    "print(\"全桁一致率:{:.2f}%\".format(true_cnt / len(result_merged) * 100))"
   ]
  },
  {
   "cell_type": "markdown",
   "metadata": {},
   "source": [
    "### 店舗、サイズ情報を含むCSVファイルと識別結果をマージ"
   ]
  },
  {
   "cell_type": "code",
   "execution_count": null,
   "metadata": {},
   "outputs": [],
   "source": [
    "#../の箇所は1分補正フォーマットのダウンロード先に合わせて変更していただければ\n",
    "df_np_detect_1 = pd.read_csv(\"../../../../../Downloads/1分補正_プレートのサイズ付与済みデータ.csv\", encoding=\"utf-8-sig\")\n",
    "df_np_detect_2 = pd.read_csv(\"../../../../../Downloads/1分補正_プレートのサイズ付与済みデータ_8月.csv\", encoding=\"utf-8-sig\")\n",
    "df_np_detect_3 = pd.read_csv(\"../../../../../Downloads/1分補正_プレートのサイズ付与済みデータ_9月後半.csv\", encoding=\"utf-8-sig\")\n",
    "\n",
    "df_np_detect = pd.concat([df_np_detect_1, df_np_detect_2, df_np_detect_3], axis =0).reset_index(drop=True) "
   ]
  },
  {
   "cell_type": "code",
   "execution_count": null,
   "metadata": {},
   "outputs": [],
   "source": [
    "df_np_detect.head()"
   ]
  },
  {
   "cell_type": "code",
   "execution_count": null,
   "metadata": {},
   "outputs": [],
   "source": [
    "df_np_detect = df_np_detect.drop(columns=[\"画像の元パス\"])\n",
    "df_np_detect = df_np_detect.rename(columns={\"画像名\":\"img_name\"})"
   ]
  },
  {
   "cell_type": "code",
   "execution_count": null,
   "metadata": {},
   "outputs": [],
   "source": [
    "#こちらもimg_path_masterのダウンロード先に合わせてパス変更していただければ\n",
    "df_img_path = pd.read_csv(\"../../../../../Downloads/img_path_master.csv\", encoding=\"utf-8-sig\")"
   ]
  },
  {
   "cell_type": "code",
   "execution_count": null,
   "metadata": {},
   "outputs": [],
   "source": [
    "df_np_detect = pd.merge(df_np_detect, df_img_path[[\"img_path\",\"img_name\"]], on=\"img_name\")"
   ]
  },
  {
   "cell_type": "code",
   "execution_count": null,
   "metadata": {},
   "outputs": [],
   "source": [
    "valid_imgs = result_merged[\"img_name\"].unique().tolist()\n",
    "df_target_np = df_np_detect[df_np_detect[\"img_name\"].isin(valid_imgs)]"
   ]
  },
  {
   "cell_type": "code",
   "execution_count": null,
   "metadata": {},
   "outputs": [],
   "source": [
    "result_merged_all = pd.merge(result_merged, df_target_np, on=\"img_name\")"
   ]
  },
  {
   "cell_type": "code",
   "execution_count": null,
   "metadata": {},
   "outputs": [],
   "source": [
    "result_merged_all.head()"
   ]
  },
  {
   "cell_type": "code",
   "execution_count": null,
   "metadata": {},
   "outputs": [],
   "source": [
    "# validデータの店舗の分布をcheck\n",
    "data_counts = result_merged_all['物件名'].value_counts()[:20]\n",
    "plt.figure(figsize=(5, 8))\n",
    "sns.barplot(x=data_counts.values, y=data_counts.index)\n",
    "plt.title('店舗別データの分布', fontsize=15)\n",
    "plt.show()"
   ]
  },
  {
   "cell_type": "markdown",
   "metadata": {},
   "source": [
    "### 店舗毎の精度を確認"
   ]
  },
  {
   "cell_type": "code",
   "execution_count": null,
   "metadata": {},
   "outputs": [],
   "source": [
    "shop_list = list(result_merged_all['物件名'].value_counts()[:20].index)"
   ]
  },
  {
   "cell_type": "code",
   "execution_count": null,
   "metadata": {},
   "outputs": [],
   "source": [
    "data_list = []\n",
    "\n",
    "for each_shop in shop_list:\n",
    "    df_target = result_merged_all[result_merged_all[\"物件名\"] == each_shop]\n",
    "\n",
    "    true_cnt = 0\n",
    "    true_cnt_large = 0\n",
    "    true_cnt_small = 0\n",
    "    true_cnt_region = 0\n",
    "    true_cnt_hiragana = 0\n",
    "    for idx_, row_ in df_target.iterrows():\n",
    "        if (row_[\"pred_label_large\"] == row_[\"true_label_large\"]) & (row_[\"pred_label_small\"] == row_[\"true_label_small\"]) & (row_[\"pred_label_region\"] == row_[\"true_label_region\"]) & (row_[\"pred_label_hiragana\"] == row_[\"true_label_hiragana\"]):\n",
    "            true_cnt += 1\n",
    "        if (row_[\"pred_label_large\"] == row_[\"true_label_large\"]):\n",
    "            true_cnt_large += 1\n",
    "        if (row_[\"pred_label_small\"] == row_[\"true_label_small\"]):\n",
    "            true_cnt_small += 1\n",
    "        if (row_[\"pred_label_region\"] == row_[\"true_label_region\"]):\n",
    "            true_cnt_region += 1\n",
    "        if (row_[\"pred_label_hiragana\"] == row_[\"true_label_hiragana\"]):\n",
    "            true_cnt_hiragana += 1\n",
    "            \n",
    "\n",
    "    print(\"店舗:{}, 全桁一致率:{:.2f}%\".format(each_shop, true_cnt / len(df_target) * 100))\n",
    "    \n",
    "    data_dict = {\"店舗\":each_shop,\n",
    "                \"全桁一致\":true_cnt / len(df_target) * 100,\n",
    "                \"車番一致\":true_cnt_large / len(df_target) * 100,\n",
    "                \"分類番号一致\":true_cnt_small / len(df_target) * 100,\n",
    "                \"ひらがな一致\":true_cnt_hiragana / len(df_target) * 100, \n",
    "                \"地域名一致\":true_cnt_region / len(df_target) * 100}\n",
    "    data_list.append(data_dict)"
   ]
  },
  {
   "cell_type": "code",
   "execution_count": null,
   "metadata": {},
   "outputs": [],
   "source": [
    "df_ = pd.DataFrame(data_list, columns=data_list[0].keys())"
   ]
  },
  {
   "cell_type": "code",
   "execution_count": null,
   "metadata": {},
   "outputs": [],
   "source": [
    "df_.set_index(\"店舗\", inplace=True)"
   ]
  },
  {
   "cell_type": "code",
   "execution_count": null,
   "metadata": {},
   "outputs": [],
   "source": [
    "plt.figure(figsize=(12, 10))\n",
    "\n",
    "sns.heatmap(df_, annot=True, cmap='YlOrBr')\n",
    "plt.show()"
   ]
  },
  {
   "cell_type": "code",
   "execution_count": null,
   "metadata": {},
   "outputs": [],
   "source": [
    "#車番のみの一致\n",
    "for each_shop in shop_list:\n",
    "    df_target = result_merged_all[result_merged_all[\"物件名\"] == each_shop]\n",
    "\n",
    "    true_cnt = 0\n",
    "    for idx_, row_ in df_target.iterrows():\n",
    "        if (row_[\"pred_label_large\"] == row_[\"true_label_large\"]):\n",
    "            true_cnt += 1\n",
    "\n",
    "    print(\"店舗:{}, 車番認識率:{:.2f}%\".format(each_shop, true_cnt / len(df_target) * 100))"
   ]
  },
  {
   "cell_type": "code",
   "execution_count": null,
   "metadata": {},
   "outputs": [],
   "source": [
    "#分類番号のみの一致\n",
    "for each_shop in shop_list:\n",
    "    df_target = result_merged_all[result_merged_all[\"物件名\"] == each_shop]\n",
    "\n",
    "    true_cnt = 0\n",
    "    for idx_, row_ in df_target.iterrows():\n",
    "        if (row_[\"pred_label_small\"] == row_[\"true_label_small\"]):\n",
    "            true_cnt += 1\n",
    "\n",
    "    print(\"店舗:{}, 分番認識率:{:.2f}%\".format(each_shop, true_cnt / len(df_target) * 100))"
   ]
  },
  {
   "cell_type": "code",
   "execution_count": null,
   "metadata": {
    "scrolled": true
   },
   "outputs": [],
   "source": [
    "#地域名のみの一致\n",
    "for each_shop in shop_list:\n",
    "    df_target = result_merged_all[result_merged_all[\"物件名\"] == each_shop]\n",
    "\n",
    "    true_cnt = 0\n",
    "    for idx_, row_ in df_target.iterrows():\n",
    "        if (row_[\"pred_label_region\"] == row_[\"true_label_region\"]):\n",
    "            true_cnt += 1\n",
    "\n",
    "    print(\"店舗:{}, 地名認識率:{:.2f}%\".format(each_shop, true_cnt / len(df_target) * 100))"
   ]
  },
  {
   "cell_type": "code",
   "execution_count": null,
   "metadata": {},
   "outputs": [],
   "source": [
    "#イオン幕張の不正解データ\n",
    "#df_target = result_merged_all[result_merged_all[\"物件名\"] =='イオン幕張']\n",
    "#true_img_path = []\n",
    "#false_img_path = []\n",
    "\n",
    "#for idx_, row_ in df_target.iterrows():\n",
    "#    if (row_[\"pred_label_large\"] == row_[\"true_label_large\"]) & (row_[\"pred_label_small\"] == row_[\"true_label_small\"]) & (row_[\"pred_label_region\"] == row_[\"true_label_region\"]) & (row_[\"pred_label_hiragana\"] == row_[\"true_label_hiragana\"]):\n",
    "#        true_img_path.append(row_[\"img_path\"])\n",
    "#    else:\n",
    "#        false_img_path.append(row_[\"img_path\"])"
   ]
  },
  {
   "cell_type": "code",
   "execution_count": null,
   "metadata": {},
   "outputs": [],
   "source": [
    "#for each_img in false_img_path:\n",
    "#    df_ =df_target[df_target[\"img_path\"] == each_img]\n",
    "#    title_ = \"正解：車番:{}, 分類番号:{}, 地域名:{}, ひらがな:{}\".format(df_.iloc[0][\"true_label_large\"], df_.iloc[0][\"true_label_small\"], df_.iloc[0][\"true_label_region\"], df_.iloc[0][\"true_label_hiragana\"])\n",
    "#    title_ = title_ + \"   予測：車番:{}, 分類番号:{}, 地域名:{}, ひらがな:{}\".format(df_.iloc[0][\"pred_label_large\"], df_.iloc[0][\"pred_label_small\"], df_.iloc[0][\"pred_label_region\"], df_.iloc[0][\"pred_label_hiragana\"])\n",
    "#    display(title_)\n",
    "#    display(Image.open(\"../../../../../Downloads/アーカイブ\"+each_img.split('images')[1]))"
   ]
  },
  {
   "cell_type": "code",
   "execution_count": null,
   "metadata": {},
   "outputs": [],
   "source": [
    "#イオン相模原ショッピングセンターの不正解データ\n",
    "#df_target = result_merged_all[result_merged_all[\"物件名\"] =='イオン相模原ショッピングセンター']\n",
    "#true_img_path = []\n",
    "#false_img_path = []\n",
    "\n",
    "#for idx_, row_ in df_target.iterrows():\n",
    "#    if (row_[\"pred_label_large\"] == row_[\"true_label_large\"]) & (row_[\"pred_label_small\"] == row_[\"true_label_small\"]) & (row_[\"pred_label_region\"] == row_[\"true_label_region\"]) & (row_[\"pred_label_hiragana\"] == row_[\"true_label_hiragana\"]):\n",
    "#        true_img_path.append(row_[\"img_path\"])\n",
    "#    else:\n",
    "#        false_img_path.append(row_[\"img_path\"])"
   ]
  },
  {
   "cell_type": "code",
   "execution_count": null,
   "metadata": {},
   "outputs": [],
   "source": [
    "#for each_img in false_img_path:\n",
    "#    df_ =df_target[df_target[\"img_path\"] == each_img]\n",
    "#    title_ = \"正解：車番:{}, 分類番号:{}, 地域名:{}, ひらがな:{}\".format(df_.iloc[0][\"true_label_large\"], df_.iloc[0][\"true_label_small\"], df_.iloc[0][\"true_label_region\"], df_.iloc[0][\"true_label_hiragana\"])\n",
    "#    title_ = title_ + \"   予測：車番:{}, 分類番号:{}, 地域名:{}, ひらがな:{}\".format(df_.iloc[0][\"pred_label_large\"], df_.iloc[0][\"pred_label_small\"], df_.iloc[0][\"pred_label_region\"], df_.iloc[0][\"pred_label_hiragana\"])\n",
    "#    display(title_)\n",
    "#    display(Image.open(\"../../../../../Downloads/アーカイブ\"+each_img.split('images')[1]))"
   ]
  },
  {
   "cell_type": "code",
   "execution_count": null,
   "metadata": {},
   "outputs": [],
   "source": [
    "#イオン金沢八景の不正解データ\n",
    "#df_target = result_merged_all[result_merged_all[\"物件名\"] =='イオン金沢八景']\n",
    "#true_img_path = []\n",
    "#false_img_path = []\n",
    "\n",
    "#for idx_, row_ in df_target.iterrows():\n",
    "#    if (row_[\"pred_label_large\"] == row_[\"true_label_large\"]) & (row_[\"pred_label_small\"] == row_[\"true_label_small\"]) & (row_[\"pred_label_region\"] == row_[\"true_label_region\"]) & (row_[\"pred_label_hiragana\"] == row_[\"true_label_hiragana\"]):\n",
    "#        true_img_path.append(row_[\"img_path\"])\n",
    "#    else:\n",
    "#        false_img_path.append(row_[\"img_path\"])"
   ]
  },
  {
   "cell_type": "code",
   "execution_count": null,
   "metadata": {},
   "outputs": [],
   "source": [
    "#for each_img in false_img_path:\n",
    "#    df_ =df_target[df_target[\"img_path\"] == each_img]\n",
    "#    title_ = \"正解：車番:{}, 分類番号:{}, 地域名:{}, ひらがな:{}\".format(df_.iloc[0][\"true_label_large\"], df_.iloc[0][\"true_label_small\"], df_.iloc[0][\"true_label_region\"], df_.iloc[0][\"true_label_hiragana\"])\n",
    "#    title_ = title_ + \"   予測：車番:{}, 分類番号:{}, 地域名:{}, ひらがな:{}\".format(df_.iloc[0][\"pred_label_large\"], df_.iloc[0][\"pred_label_small\"], df_.iloc[0][\"pred_label_region\"], df_.iloc[0][\"pred_label_hiragana\"])\n",
    "#    display(title_)\n",
    "#    display(Image.open(\"../../../../../Downloads/アーカイブ\"+each_img.split('images')[1]))"
   ]
  },
  {
   "cell_type": "code",
   "execution_count": null,
   "metadata": {},
   "outputs": [],
   "source": [
    "#イオン東雲店の不正解データ\n",
    "#出来ればやっていただきたいですが途中まではやってあるので後回しで大丈夫です。\n",
    "#時間がなかったり面倒ならやらなくても大丈夫です。\n",
    "df_target = result_merged_all[result_merged_all[\"物件名\"] =='イオン東雲店']\n",
    "true_img_path = []\n",
    "false_img_path = []\n",
    "\n",
    "for idx_, row_ in df_target.iterrows():\n",
    "    if (row_[\"pred_label_large\"] == row_[\"true_label_large\"]) & (row_[\"pred_label_small\"] == row_[\"true_label_small\"]) & (row_[\"pred_label_region\"] == row_[\"true_label_region\"]) & (row_[\"pred_label_hiragana\"] == row_[\"true_label_hiragana\"]):\n",
    "        true_img_path.append(row_[\"img_path\"])\n",
    "    else:\n",
    "        false_img_path.append(row_[\"img_path\"])"
   ]
  },
  {
   "cell_type": "code",
   "execution_count": null,
   "metadata": {},
   "outputs": [],
   "source": [
    "for each_img in false_img_path:\n",
    "    df_ =df_target[df_target[\"img_path\"] == each_img]\n",
    "    title_ = \"正解：車番:{}, 分類番号:{}, 地域名:{}, ひらがな:{}\".format(df_.iloc[0][\"true_label_large\"], df_.iloc[0][\"true_label_small\"], df_.iloc[0][\"true_label_region\"], df_.iloc[0][\"true_label_hiragana\"])\n",
    "    title_ = title_ + \"   予測：車番:{}, 分類番号:{}, 地域名:{}, ひらがな:{}\".format(df_.iloc[0][\"pred_label_large\"], df_.iloc[0][\"pred_label_small\"], df_.iloc[0][\"pred_label_region\"], df_.iloc[0][\"pred_label_hiragana\"])\n",
    "    display(title_)\n",
    "    display(Image.open(\"../../../../../Downloads/アーカイブ\"+each_img.split('images')[1]))"
   ]
  },
  {
   "cell_type": "code",
   "execution_count": null,
   "metadata": {},
   "outputs": [],
   "source": [
    "#イオン稲毛の不正解データ\n",
    "#店舗毎のデータはここから実行して欲しいです。\n",
    "df_target = result_merged_all[result_merged_all[\"物件名\"] =='イオン稲毛']\n",
    "true_img_path = []\n",
    "false_img_path = []\n",
    "\n",
    "for idx_, row_ in df_target.iterrows():\n",
    "    if (row_[\"pred_label_large\"] == row_[\"true_label_large\"]) & (row_[\"pred_label_small\"] == row_[\"true_label_small\"]) & (row_[\"pred_label_region\"] == row_[\"true_label_region\"]) & (row_[\"pred_label_hiragana\"] == row_[\"true_label_hiragana\"]):\n",
    "        true_img_path.append(row_[\"img_path\"])\n",
    "    else:\n",
    "        false_img_path.append(row_[\"img_path\"])"
   ]
  },
  {
   "cell_type": "code",
   "execution_count": null,
   "metadata": {
    "scrolled": true
   },
   "outputs": [],
   "source": [
    "#表示される結果と画像をスクショ等の形で全て画像の形にしていただきたいです。\n",
    "#1データ毎にスクショでも複数データ分スクショでも大丈夫です。\n",
    "#例によってパスはアーカイブフォルダをダウンロードした先に合わせて変更していただければと思います。\n",
    "for each_img in false_img_path:\n",
    "    df_ =df_target[df_target[\"img_path\"] == each_img]\n",
    "    title_ = \"正解：車番:{}, 分類番号:{}, 地域名:{}, ひらがな:{}\".format(df_.iloc[0][\"true_label_large\"], df_.iloc[0][\"true_label_small\"], df_.iloc[0][\"true_label_region\"], df_.iloc[0][\"true_label_hiragana\"])\n",
    "    title_ = title_ + \"   予測：車番:{}, 分類番号:{}, 地域名:{}, ひらがな:{}\".format(df_.iloc[0][\"pred_label_large\"], df_.iloc[0][\"pred_label_small\"], df_.iloc[0][\"pred_label_region\"], df_.iloc[0][\"pred_label_hiragana\"])\n",
    "    display(title_)\n",
    "    display(Image.open(\"../../../../../Downloads/アーカイブ\"+each_img.split('images')[1]))"
   ]
  },
  {
   "cell_type": "code",
   "execution_count": null,
   "metadata": {},
   "outputs": [],
   "source": [
    "#イオンスタイル仙台卸町店の不正解データ\n",
    "df_target = result_merged_all[result_merged_all[\"物件名\"] =='イオンスタイル仙台卸町店']\n",
    "true_img_path = []\n",
    "false_img_path = []\n",
    "\n",
    "for idx_, row_ in df_target.iterrows():\n",
    "    if (row_[\"pred_label_large\"] == row_[\"true_label_large\"]) & (row_[\"pred_label_small\"] == row_[\"true_label_small\"]) & (row_[\"pred_label_region\"] == row_[\"true_label_region\"]) & (row_[\"pred_label_hiragana\"] == row_[\"true_label_hiragana\"]):\n",
    "        true_img_path.append(row_[\"img_path\"])\n",
    "    else:\n",
    "        false_img_path.append(row_[\"img_path\"])"
   ]
  },
  {
   "cell_type": "code",
   "execution_count": null,
   "metadata": {},
   "outputs": [],
   "source": [
    "for each_img in false_img_path:\n",
    "    df_ =df_target[df_target[\"img_name\"] == each_img]\n",
    "    title_ = \"正解：車番:{}, 分類番号:{}, 地域名:{}, ひらがな:{}\".format(df_.iloc[0][\"true_label_large\"], df_.iloc[0][\"true_label_small\"], df_.iloc[0][\"true_label_region\"], df_.iloc[0][\"true_label_hiragana\"])\n",
    "    title_ = title_ + \"   予測：車番:{}, 分類番号:{}, 地域名:{}, ひらがな:{}\".format(df_.iloc[0][\"pred_label_large\"], df_.iloc[0][\"pred_label_small\"], df_.iloc[0][\"pred_label_region\"], df_.iloc[0][\"pred_label_hiragana\"])\n",
    "    display(title_)\n",
    "    display(Image.open(\"../../../../../Downloads/アーカイブ\"+each_img.split('images')[1]))"
   ]
  },
  {
   "cell_type": "code",
   "execution_count": null,
   "metadata": {},
   "outputs": [],
   "source": [
    "#イオン板橋ショッピングセンターの不正解データ\n",
    "df_target = result_merged_all[result_merged_all[\"物件名\"] =='イオン板橋ショッピングセンター']\n",
    "true_img_path = []\n",
    "false_img_path = []\n",
    "\n",
    "for idx_, row_ in df_target.iterrows():\n",
    "    if (row_[\"pred_label_large\"] == row_[\"true_label_large\"]) & (row_[\"pred_label_small\"] == row_[\"true_label_small\"]) & (row_[\"pred_label_region\"] == row_[\"true_label_region\"]) & (row_[\"pred_label_hiragana\"] == row_[\"true_label_hiragana\"]):\n",
    "        true_img_path.append(row_[\"img_path\"])\n",
    "    else:\n",
    "        false_img_path.append(row_[\"img_path\"])"
   ]
  },
  {
   "cell_type": "code",
   "execution_count": null,
   "metadata": {
    "scrolled": true
   },
   "outputs": [],
   "source": [
    "for each_img in false_img_path:\n",
    "    df_ =df_target[df_target[\"img_path\"] == each_img]\n",
    "    title_ = \"正解：車番:{}, 分類番号:{}, 地域名:{}, ひらがな:{}\".format(df_.iloc[0][\"true_label_large\"], df_.iloc[0][\"true_label_small\"], df_.iloc[0][\"true_label_region\"], df_.iloc[0][\"true_label_hiragana\"])\n",
    "    title_ = title_ + \"   予測：車番:{}, 分類番号:{}, 地域名:{}, ひらがな:{}\".format(df_.iloc[0][\"pred_label_large\"], df_.iloc[0][\"pred_label_small\"], df_.iloc[0][\"pred_label_region\"], df_.iloc[0][\"pred_label_hiragana\"])\n",
    "    display(title_)\n",
    "    display(Image.open(\"../../../../../Downloads/アーカイブ\"+each_img.split('images')[1]))"
   ]
  },
  {
   "cell_type": "code",
   "execution_count": null,
   "metadata": {},
   "outputs": [],
   "source": [
    "#関西スーパー京阪大和田１Fの不正解データ\n",
    "df_target = result_merged_all[result_merged_all[\"物件名\"] =='関西スーパー京阪大和田１F']\n",
    "true_img_path = []\n",
    "false_img_path = []\n",
    "\n",
    "for idx_, row_ in df_target.iterrows():\n",
    "    if (row_[\"pred_label_large\"] == row_[\"true_label_large\"]) & (row_[\"pred_label_small\"] == row_[\"true_label_small\"]) & (row_[\"pred_label_region\"] == row_[\"true_label_region\"]) & (row_[\"pred_label_hiragana\"] == row_[\"true_label_hiragana\"]):\n",
    "        true_img_path.append(row_[\"img_path\"])\n",
    "    else:\n",
    "        false_img_path.append(row_[\"img_path\"])"
   ]
  },
  {
   "cell_type": "code",
   "execution_count": null,
   "metadata": {},
   "outputs": [],
   "source": [
    "for each_img in false_img_path:\n",
    "    df_ =df_target[df_target[\"img_path\"] == each_img]\n",
    "    title_ = \"正解：車番:{}, 分類番号:{}, 地域名:{}, ひらがな:{}\".format(df_.iloc[0][\"true_label_large\"], df_.iloc[0][\"true_label_small\"], df_.iloc[0][\"true_label_region\"], df_.iloc[0][\"true_label_hiragana\"])\n",
    "    title_ = title_ + \"   予測：車番:{}, 分類番号:{}, 地域名:{}, ひらがな:{}\".format(df_.iloc[0][\"pred_label_large\"], df_.iloc[0][\"pred_label_small\"], df_.iloc[0][\"pred_label_region\"], df_.iloc[0][\"pred_label_hiragana\"])\n",
    "    display(title_)\n",
    "    display(Image.open(\"../../../../../Downloads/アーカイブ\"+each_img.split('images')[1]))"
   ]
  },
  {
   "cell_type": "code",
   "execution_count": null,
   "metadata": {},
   "outputs": [],
   "source": [
    "#マミーマート船橋日大[地上]の不正解データ\n",
    "df_target = result_merged_all[result_merged_all[\"物件名\"] =='マミーマート船橋日大[地上]']\n",
    "true_img_path = []\n",
    "false_img_path = []\n",
    "\n",
    "for idx_, row_ in df_target.iterrows():\n",
    "    if (row_[\"pred_label_large\"] == row_[\"true_label_large\"]) & (row_[\"pred_label_small\"] == row_[\"true_label_small\"]) & (row_[\"pred_label_region\"] == row_[\"true_label_region\"]) & (row_[\"pred_label_hiragana\"] == row_[\"true_label_hiragana\"]):\n",
    "        true_img_path.append(row_[\"img_path\"])\n",
    "    else:\n",
    "        false_img_path.append(row_[\"img_path\"])"
   ]
  },
  {
   "cell_type": "code",
   "execution_count": null,
   "metadata": {},
   "outputs": [],
   "source": [
    "for each_img in false_img_path:\n",
    "    df_ =df_target[df_target[\"img_path\"] == each_img]\n",
    "    title_ = \"正解：車番:{}, 分類番号:{}, 地域名:{}, ひらがな:{}\".format(df_.iloc[0][\"true_label_large\"], df_.iloc[0][\"true_label_small\"], df_.iloc[0][\"true_label_region\"], df_.iloc[0][\"true_label_hiragana\"])\n",
    "    title_ = title_ + \"   予測：車番:{}, 分類番号:{}, 地域名:{}, ひらがな:{}\".format(df_.iloc[0][\"pred_label_large\"], df_.iloc[0][\"pred_label_small\"], df_.iloc[0][\"pred_label_region\"], df_.iloc[0][\"pred_label_hiragana\"])\n",
    "    display(title_)\n",
    "    display(Image.open(\"../../../../../Downloads/アーカイブ\"+each_img.split('images')[1]))"
   ]
  },
  {
   "cell_type": "code",
   "execution_count": null,
   "metadata": {},
   "outputs": [],
   "source": [
    "#イオン高根木戸の不正解データ\n",
    "df_target = result_merged_all[result_merged_all[\"物件名\"] =='イオン高根木戸']\n",
    "true_img_path = []\n",
    "false_img_path = []\n",
    "\n",
    "for idx_, row_ in df_target.iterrows():\n",
    "    if (row_[\"pred_label_large\"] == row_[\"true_label_large\"]) & (row_[\"pred_label_small\"] == row_[\"true_label_small\"]) & (row_[\"pred_label_region\"] == row_[\"true_label_region\"]) & (row_[\"pred_label_hiragana\"] == row_[\"true_label_hiragana\"]):\n",
    "        true_img_path.append(row_[\"img_path\"])\n",
    "    else:\n",
    "        false_img_path.append(row_[\"img_path\"])"
   ]
  },
  {
   "cell_type": "code",
   "execution_count": null,
   "metadata": {},
   "outputs": [],
   "source": [
    "for each_img in false_img_path:\n",
    "    df_ =df_target[df_target[\"img_path\"] == each_img]\n",
    "    title_ = \"正解：車番:{}, 分類番号:{}, 地域名:{}, ひらがな:{}\".format(df_.iloc[0][\"true_label_large\"], df_.iloc[0][\"true_label_small\"], df_.iloc[0][\"true_label_region\"], df_.iloc[0][\"true_label_hiragana\"])\n",
    "    title_ = title_ + \"   予測：車番:{}, 分類番号:{}, 地域名:{}, ひらがな:{}\".format(df_.iloc[0][\"pred_label_large\"], df_.iloc[0][\"pred_label_small\"], df_.iloc[0][\"pred_label_region\"], df_.iloc[0][\"pred_label_hiragana\"])\n",
    "    display(title_)\n",
    "    display(Image.open(\"../../../../../Downloads/アーカイブ\"+each_img.split('images')[1]))"
   ]
  }
 ],
 "metadata": {
  "anaconda-cloud": {},
  "kernelspec": {
   "display_name": "Python 3",
   "language": "python",
   "name": "python3"
  },
  "language_info": {
   "codemirror_mode": {
    "name": "ipython",
    "version": 3
   },
   "file_extension": ".py",
   "mimetype": "text/x-python",
   "name": "python",
   "nbconvert_exporter": "python",
   "pygments_lexer": "ipython3",
   "version": "3.6.0"
  }
 },
 "nbformat": 4,
 "nbformat_minor": 2
}
